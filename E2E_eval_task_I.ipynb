{
  "nbformat": 4,
  "nbformat_minor": 0,
  "metadata": {
    "colab": {
      "name": "E2E_eval_task_I.ipynb",
      "provenance": [],
      "include_colab_link": true
    },
    "kernelspec": {
      "name": "python3",
      "display_name": "Python 3"
    },
    "language_info": {
      "name": "python"
    },
    "accelerator": "GPU"
  },
  "cells": [
    {
      "cell_type": "markdown",
      "metadata": {
        "id": "view-in-github",
        "colab_type": "text"
      },
      "source": [
        "<a href=\"https://colab.research.google.com/github/AritraStark/E2E_GSOC_2022/blob/main/E2E_eval_task_I.ipynb\" target=\"_parent\"><img src=\"https://colab.research.google.com/assets/colab-badge.svg\" alt=\"Open In Colab\"/></a>"
      ]
    },
    {
      "cell_type": "markdown",
      "source": [
        "**Common Task 1. Electron/photon classification**\n",
        "\n",
        "Datasets:\n",
        "\n",
        "https://cernbox.cern.ch/index.php/s/AtBT8y4MiQYFcgc (photons)\n",
        "\n",
        "https://cernbox.cern.ch/index.php/s/FbXw3V4XNyYB3oA (electrons)\n",
        "\n",
        "Description: 32x32 matrices (two channels - hit energy and time) for two classes of particles electrons and photons impinging on a calorimeter\n",
        "Please use a deep learning method of your choice to achieve the highest possible\n",
        "classification on this dataset (we ask that you do it both in Keras/Tensorflow and in PyTorch). Please provide a Jupyter notebook that shows your solution. The model yousubmit should have a ROC AUC score of at least 0.80."
      ],
      "metadata": {
        "id": "vsTucLeyQCsU"
      }
    },
    {
      "cell_type": "markdown",
      "source": [
        "Downloading the datasets from the links provided: "
      ],
      "metadata": {
        "id": "VBwlRChLQCga"
      }
    },
    {
      "cell_type": "code",
      "source": [
        "!wget https://cernbox.cern.ch/index.php/s/AtBT8y4MiQYFcgc/download -O photons.hdf5\n",
        "!wget https://cernbox.cern.ch/index.php/s/FbXw3V4XNyYB3oA/download -O electrons.hdf5"
      ],
      "metadata": {
        "colab": {
          "base_uri": "https://localhost:8080/"
        },
        "id": "qaIFeaOAc4bN",
        "outputId": "8497b8af-e85a-4310-e93a-2b59e631f0e2"
      },
      "execution_count": 1,
      "outputs": [
        {
          "output_type": "stream",
          "name": "stdout",
          "text": [
            "--2022-04-04 13:20:23--  https://cernbox.cern.ch/index.php/s/AtBT8y4MiQYFcgc/download\n",
            "Resolving cernbox.cern.ch (cernbox.cern.ch)... 188.184.97.72, 128.142.170.17, 128.142.53.28, ...\n",
            "Connecting to cernbox.cern.ch (cernbox.cern.ch)|188.184.97.72|:443... connected.\n",
            "HTTP request sent, awaiting response... 200 OK\n",
            "Length: 119703858 (114M) [application/octet-stream]\n",
            "Saving to: ‘photons.hdf5’\n",
            "\n",
            "photons.hdf5        100%[===================>] 114.16M  23.4MB/s    in 5.7s    \n",
            "\n",
            "Last-modified header invalid -- time-stamp ignored.\n",
            "2022-04-04 13:20:31 (20.1 MB/s) - ‘photons.hdf5’ saved [119703858/119703858]\n",
            "\n",
            "--2022-04-04 13:20:31--  https://cernbox.cern.ch/index.php/s/FbXw3V4XNyYB3oA/download\n",
            "Resolving cernbox.cern.ch (cernbox.cern.ch)... 188.184.97.72, 128.142.53.28, 137.138.120.151, ...\n",
            "Connecting to cernbox.cern.ch (cernbox.cern.ch)|188.184.97.72|:443... connected.\n",
            "HTTP request sent, awaiting response... 200 OK\n",
            "Length: 128927319 (123M) [application/octet-stream]\n",
            "Saving to: ‘electrons.hdf5’\n",
            "\n",
            "electrons.hdf5      100%[===================>] 122.95M  22.5MB/s    in 6.5s    \n",
            "\n",
            "Last-modified header invalid -- time-stamp ignored.\n",
            "2022-04-04 13:20:41 (18.9 MB/s) - ‘electrons.hdf5’ saved [128927319/128927319]\n",
            "\n"
          ]
        }
      ]
    },
    {
      "cell_type": "markdown",
      "source": [
        "Setting up the imports:"
      ],
      "metadata": {
        "id": "KKyu1QBLc9Dx"
      }
    },
    {
      "cell_type": "code",
      "source": [
        "import numpy as np\n",
        "import tensorflow as tf\n",
        "import h5py\n",
        "import pandas as pd\n",
        "import matplotlib.pyplot as plt\n",
        "from sklearn.model_selection import train_test_split\n",
        "from sklearn.metrics import classification_report\n",
        "from sklearn.metrics import roc_auc_score, roc_curve, auc\n",
        "\n",
        "print(tf.__version__)"
      ],
      "metadata": {
        "colab": {
          "base_uri": "https://localhost:8080/"
        },
        "id": "bbTnS9MPdCCm",
        "outputId": "f7b69811-dcbb-45cb-aa24-7c046692a72d"
      },
      "execution_count": 2,
      "outputs": [
        {
          "output_type": "stream",
          "name": "stdout",
          "text": [
            "2.8.0\n"
          ]
        }
      ]
    },
    {
      "cell_type": "markdown",
      "source": [
        "Get the data from the downloaded HDF5 files and combine the loaded datasets:"
      ],
      "metadata": {
        "id": "9X8Ns4T3ebZ4"
      }
    },
    {
      "cell_type": "code",
      "source": [
        "X_electron = np.array(h5py.File(\"electrons.hdf5\",'r').get(name=\"X\")[()])\n",
        "y_electron = np.array(h5py.File(\"electrons.hdf5\",'r').get(name=\"y\")[()])\n",
        "X_photon = np.array(h5py.File(\"photons.hdf5\",'r').get(name=\"X\")[()])\n",
        "y_photon = np.array(h5py.File(\"photons.hdf5\",'r').get(name=\"y\")[()])\n",
        "\n",
        "X_particles = np.concatenate((X_electron,X_photon),axis=0)\n",
        "y_particles = np.concatenate((y_electron,y_photon),axis=0)\n",
        "print(X_particles.shape,y_particles.shape)\n",
        "\n",
        "del X_electron\n",
        "del X_photon\n",
        "del y_electron\n",
        "del y_photon\n",
        "\n",
        "index = np.random.permutation(len(y_particles))\n",
        "X_particles, y_particles = X_particles[index][:,:,:,0].reshape((-1,32*32)), y_particles[index]"
      ],
      "metadata": {
        "colab": {
          "base_uri": "https://localhost:8080/"
        },
        "id": "ZNhJPOwKeldg",
        "outputId": "5ce561b0-604e-499e-c8dd-0a3aa41b7434"
      },
      "execution_count": 6,
      "outputs": [
        {
          "output_type": "stream",
          "name": "stdout",
          "text": [
            "(498000, 32, 32, 2) (498000,)\n"
          ]
        }
      ]
    },
    {
      "cell_type": "markdown",
      "source": [
        "Splitting the data into training and testing sets ( I have split it in 80-20 as per instructions): "
      ],
      "metadata": {
        "id": "B_96cSfhb3G7"
      }
    },
    {
      "cell_type": "code",
      "source": [
        "X_train_m, X_train_n, y_train_m, y_train_n = train_test_split( X_particles, y_particles, random_state=48, test_size=0.6 )\n",
        "\n",
        "del X_particles\n",
        "del y_particles\n",
        "\n",
        "X_train, X_test, y_train, y_test = train_test_split( X_train_m, y_train_m, random_state=48, test_size=0.2 )\n",
        "X_train.shape, X_test.shape, y_train.shape, y_test.shape"
      ],
      "metadata": {
        "id": "hyDuWD1Sb6tY",
        "outputId": "02c7b5d6-4f1a-47a7-f4a1-cf3eee8f403a",
        "colab": {
          "base_uri": "https://localhost:8080/"
        }
      },
      "execution_count": 7,
      "outputs": [
        {
          "output_type": "execute_result",
          "data": {
            "text/plain": [
              "((159360, 1024), (39840, 1024), (159360,), (39840,))"
            ]
          },
          "metadata": {},
          "execution_count": 7
        }
      ]
    },
    {
      "cell_type": "markdown",
      "source": [
        "Defining the VGG model:"
      ],
      "metadata": {
        "id": "AEYtfPYbco75"
      }
    },
    {
      "cell_type": "code",
      "source": [
        "model = tf.keras.applications.VGG16(\n",
        "          include_top=True, \n",
        "          weights=None,\n",
        "          input_shape=(32,32,1),\n",
        "          classes=1,\n",
        "          classifier_activation='sigmoid'\n",
        ")"
      ],
      "metadata": {
        "id": "y0xTbBylqJfn"
      },
      "execution_count": null,
      "outputs": []
    },
    {
      "cell_type": "markdown",
      "source": [
        "Defining a CNN model:"
      ],
      "metadata": {
        "id": "yXQ1udoEzeds"
      }
    },
    {
      "cell_type": "code",
      "source": [
        "model = tf.keras.models.Sequential([\n",
        "  tf.keras.layers.Dense(512, activation = 'relu', input_shape= (32*32,)),\n",
        "  tf.keras.layers.Dropout(0.5),\n",
        "  tf.keras.layers.Dense(512, activation = 'relu'),\n",
        "  tf.keras.layers.Dropout(0.5),\n",
        "  tf.keras.layers.Dense(256, activation = 'relu'),\n",
        "  tf.keras.layers.Dropout(0.5),\n",
        "  tf.keras.layers.Dense(256, activation = 'relu'),\n",
        "  tf.keras.layers.Dropout(0.5),\n",
        "  tf.keras.layers.Dense(128, activation = 'relu'),\n",
        "  tf.keras.layers.Dropout(0.5),\n",
        "  tf.keras.layers.Dense(128, activation = 'relu'),\n",
        "  tf.keras.layers.Dropout(0.5),\n",
        "  tf.keras.layers.Dense(64, activation = 'relu'),\n",
        "  tf.keras.layers.Dropout(0.5),\n",
        "  tf.keras.layers.Dense(1, activation = 'sigmoid')\n",
        "])"
      ],
      "metadata": {
        "id": "GjZA7FP8cyMg"
      },
      "execution_count": 15,
      "outputs": []
    },
    {
      "cell_type": "markdown",
      "source": [
        "Get model summary:"
      ],
      "metadata": {
        "id": "BVNvMPHUzbJQ"
      }
    },
    {
      "cell_type": "code",
      "source": [
        "model.summary()"
      ],
      "metadata": {
        "id": "7VESf50jzSJr",
        "outputId": "fbda5074-50eb-4935-87f4-fa07b6395d0b",
        "colab": {
          "base_uri": "https://localhost:8080/"
        }
      },
      "execution_count": 9,
      "outputs": [
        {
          "output_type": "stream",
          "name": "stdout",
          "text": [
            "Model: \"sequential_1\"\n",
            "_________________________________________________________________\n",
            " Layer (type)                Output Shape              Param #   \n",
            "=================================================================\n",
            " dense_8 (Dense)             (None, 159359, 512)       524800    \n",
            "                                                                 \n",
            " dropout_7 (Dropout)         (None, 159359, 512)       0         \n",
            "                                                                 \n",
            " dense_9 (Dense)             (None, 159359, 512)       262656    \n",
            "                                                                 \n",
            " dropout_8 (Dropout)         (None, 159359, 512)       0         \n",
            "                                                                 \n",
            " dense_10 (Dense)            (None, 159359, 256)       131328    \n",
            "                                                                 \n",
            " dropout_9 (Dropout)         (None, 159359, 256)       0         \n",
            "                                                                 \n",
            " dense_11 (Dense)            (None, 159359, 256)       65792     \n",
            "                                                                 \n",
            " dropout_10 (Dropout)        (None, 159359, 256)       0         \n",
            "                                                                 \n",
            " dense_12 (Dense)            (None, 159359, 128)       32896     \n",
            "                                                                 \n",
            " dropout_11 (Dropout)        (None, 159359, 128)       0         \n",
            "                                                                 \n",
            " dense_13 (Dense)            (None, 159359, 128)       16512     \n",
            "                                                                 \n",
            " dropout_12 (Dropout)        (None, 159359, 128)       0         \n",
            "                                                                 \n",
            " dense_14 (Dense)            (None, 159359, 64)        8256      \n",
            "                                                                 \n",
            " dropout_13 (Dropout)        (None, 159359, 64)        0         \n",
            "                                                                 \n",
            " dense_15 (Dense)            (None, 159359, 1)         65        \n",
            "                                                                 \n",
            "=================================================================\n",
            "Total params: 1,042,305\n",
            "Trainable params: 1,042,305\n",
            "Non-trainable params: 0\n",
            "_________________________________________________________________\n"
          ]
        }
      ]
    },
    {
      "cell_type": "markdown",
      "source": [
        "Defining callbacks:"
      ],
      "metadata": {
        "id": "fEdVlpnygsgL"
      }
    },
    {
      "cell_type": "code",
      "source": [
        "filepath=\"classifier_weights2-improvement-{epoch:02d}-{val_accuracy:.2f}.hdf5\"\n",
        "checkpoint1 = tf.keras.callbacks.ModelCheckpoint(filepath, monitor='val_accuracy', verbose=1, save_best_only=True, mode='max')\n",
        "callbacks_list = [checkpoint1]"
      ],
      "metadata": {
        "id": "9VM4NKsZgu8Z"
      },
      "execution_count": 16,
      "outputs": []
    },
    {
      "cell_type": "markdown",
      "source": [
        "Compiling the model and fitting it with testing data:"
      ],
      "metadata": {
        "id": "9SFMBIyAgZ2i"
      }
    },
    {
      "cell_type": "code",
      "source": [
        "model.compile(optimizer=tf.keras.optimizers.Adam(learning_rate=0.001),loss='binary_crossentropy',metrics=['accuracy'])\n",
        "history = model.fit(X_train,  y_train, \n",
        "                    validation_split=0.2, \n",
        "                    epochs=30, \n",
        "                    callbacks=callbacks_list\n",
        ")"
      ],
      "metadata": {
        "id": "GBlYFXwGgf3r",
        "colab": {
          "base_uri": "https://localhost:8080/"
        },
        "outputId": "573b0a6f-5cd7-4cac-a7dd-cc08dff70d0e"
      },
      "execution_count": 17,
      "outputs": [
        {
          "output_type": "stream",
          "name": "stdout",
          "text": [
            "Epoch 1/30\n",
            "3978/3984 [============================>.] - ETA: 0s - loss: 0.6489 - accuracy: 0.6296\n",
            "Epoch 1: val_accuracy improved from -inf to 0.67191, saving model to classifier_weights2-improvement-01-0.67.hdf5\n",
            "3984/3984 [==============================] - 28s 6ms/step - loss: 0.6489 - accuracy: 0.6295 - val_loss: 0.6177 - val_accuracy: 0.6719\n",
            "Epoch 2/30\n",
            "3982/3984 [============================>.] - ETA: 0s - loss: 0.6173 - accuracy: 0.6764\n",
            "Epoch 2: val_accuracy improved from 0.67191 to 0.69459, saving model to classifier_weights2-improvement-02-0.69.hdf5\n",
            "3984/3984 [==============================] - 24s 6ms/step - loss: 0.6173 - accuracy: 0.6764 - val_loss: 0.5989 - val_accuracy: 0.6946\n",
            "Epoch 3/30\n",
            "3975/3984 [============================>.] - ETA: 0s - loss: 0.6095 - accuracy: 0.6879\n",
            "Epoch 3: val_accuracy improved from 0.69459 to 0.69723, saving model to classifier_weights2-improvement-03-0.70.hdf5\n",
            "3984/3984 [==============================] - 25s 6ms/step - loss: 0.6094 - accuracy: 0.6879 - val_loss: 0.5942 - val_accuracy: 0.6972\n",
            "Epoch 4/30\n",
            "3979/3984 [============================>.] - ETA: 0s - loss: 0.6041 - accuracy: 0.6915\n",
            "Epoch 4: val_accuracy did not improve from 0.69723\n",
            "3984/3984 [==============================] - 24s 6ms/step - loss: 0.6042 - accuracy: 0.6915 - val_loss: 0.5977 - val_accuracy: 0.6895\n",
            "Epoch 5/30\n",
            "3984/3984 [==============================] - ETA: 0s - loss: 0.6024 - accuracy: 0.6935\n",
            "Epoch 5: val_accuracy improved from 0.69723 to 0.70745, saving model to classifier_weights2-improvement-05-0.71.hdf5\n",
            "3984/3984 [==============================] - 24s 6ms/step - loss: 0.6024 - accuracy: 0.6935 - val_loss: 0.5903 - val_accuracy: 0.7075\n",
            "Epoch 6/30\n",
            "3976/3984 [============================>.] - ETA: 0s - loss: 0.6016 - accuracy: 0.6955\n",
            "Epoch 6: val_accuracy did not improve from 0.70745\n",
            "3984/3984 [==============================] - 24s 6ms/step - loss: 0.6016 - accuracy: 0.6955 - val_loss: 0.5924 - val_accuracy: 0.7022\n",
            "Epoch 7/30\n",
            "3980/3984 [============================>.] - ETA: 0s - loss: 0.6005 - accuracy: 0.6964\n",
            "Epoch 7: val_accuracy improved from 0.70745 to 0.70890, saving model to classifier_weights2-improvement-07-0.71.hdf5\n",
            "3984/3984 [==============================] - 24s 6ms/step - loss: 0.6005 - accuracy: 0.6964 - val_loss: 0.5994 - val_accuracy: 0.7089\n",
            "Epoch 8/30\n",
            "3975/3984 [============================>.] - ETA: 0s - loss: 0.5982 - accuracy: 0.6990\n",
            "Epoch 8: val_accuracy improved from 0.70890 to 0.71062, saving model to classifier_weights2-improvement-08-0.71.hdf5\n",
            "3984/3984 [==============================] - 25s 6ms/step - loss: 0.5982 - accuracy: 0.6990 - val_loss: 0.5958 - val_accuracy: 0.7106\n",
            "Epoch 9/30\n",
            "3979/3984 [============================>.] - ETA: 0s - loss: 0.5980 - accuracy: 0.6990\n",
            "Epoch 9: val_accuracy did not improve from 0.71062\n",
            "3984/3984 [==============================] - 25s 6ms/step - loss: 0.5980 - accuracy: 0.6990 - val_loss: 0.5951 - val_accuracy: 0.7088\n",
            "Epoch 10/30\n",
            "3978/3984 [============================>.] - ETA: 0s - loss: 0.5974 - accuracy: 0.7002\n",
            "Epoch 10: val_accuracy did not improve from 0.71062\n",
            "3984/3984 [==============================] - 24s 6ms/step - loss: 0.5974 - accuracy: 0.7001 - val_loss: 0.5985 - val_accuracy: 0.7072\n",
            "Epoch 11/30\n",
            "3982/3984 [============================>.] - ETA: 0s - loss: 0.5968 - accuracy: 0.7012\n",
            "Epoch 11: val_accuracy did not improve from 0.71062\n",
            "3984/3984 [==============================] - 24s 6ms/step - loss: 0.5968 - accuracy: 0.7012 - val_loss: 0.5998 - val_accuracy: 0.7065\n",
            "Epoch 12/30\n",
            "3983/3984 [============================>.] - ETA: 0s - loss: 0.5960 - accuracy: 0.7024\n",
            "Epoch 12: val_accuracy improved from 0.71062 to 0.71335, saving model to classifier_weights2-improvement-12-0.71.hdf5\n",
            "3984/3984 [==============================] - 24s 6ms/step - loss: 0.5960 - accuracy: 0.7023 - val_loss: 0.5855 - val_accuracy: 0.7134\n",
            "Epoch 13/30\n",
            "3976/3984 [============================>.] - ETA: 0s - loss: 0.5979 - accuracy: 0.6992\n",
            "Epoch 13: val_accuracy did not improve from 0.71335\n",
            "3984/3984 [==============================] - 24s 6ms/step - loss: 0.5979 - accuracy: 0.6993 - val_loss: 0.5902 - val_accuracy: 0.7113\n",
            "Epoch 14/30\n",
            "3975/3984 [============================>.] - ETA: 0s - loss: 0.5948 - accuracy: 0.7039\n",
            "Epoch 14: val_accuracy improved from 0.71335 to 0.71511, saving model to classifier_weights2-improvement-14-0.72.hdf5\n",
            "3984/3984 [==============================] - 25s 6ms/step - loss: 0.5948 - accuracy: 0.7039 - val_loss: 0.5931 - val_accuracy: 0.7151\n",
            "Epoch 15/30\n",
            "3981/3984 [============================>.] - ETA: 0s - loss: 0.5941 - accuracy: 0.7023\n",
            "Epoch 15: val_accuracy did not improve from 0.71511\n",
            "3984/3984 [==============================] - 24s 6ms/step - loss: 0.5941 - accuracy: 0.7023 - val_loss: 0.5952 - val_accuracy: 0.7001\n",
            "Epoch 16/30\n",
            "3983/3984 [============================>.] - ETA: 0s - loss: 0.5965 - accuracy: 0.7022\n",
            "Epoch 16: val_accuracy did not improve from 0.71511\n",
            "3984/3984 [==============================] - 25s 6ms/step - loss: 0.5965 - accuracy: 0.7022 - val_loss: 0.5978 - val_accuracy: 0.6998\n",
            "Epoch 17/30\n",
            "3975/3984 [============================>.] - ETA: 0s - loss: 0.5936 - accuracy: 0.7051\n",
            "Epoch 17: val_accuracy did not improve from 0.71511\n",
            "3984/3984 [==============================] - 24s 6ms/step - loss: 0.5936 - accuracy: 0.7051 - val_loss: 0.5918 - val_accuracy: 0.7137\n",
            "Epoch 18/30\n",
            "3977/3984 [============================>.] - ETA: 0s - loss: 0.5940 - accuracy: 0.7041\n",
            "Epoch 18: val_accuracy did not improve from 0.71511\n",
            "3984/3984 [==============================] - 24s 6ms/step - loss: 0.5940 - accuracy: 0.7041 - val_loss: 0.5909 - val_accuracy: 0.7056\n",
            "Epoch 19/30\n",
            "3981/3984 [============================>.] - ETA: 0s - loss: 0.5942 - accuracy: 0.7032\n",
            "Epoch 19: val_accuracy did not improve from 0.71511\n",
            "3984/3984 [==============================] - 24s 6ms/step - loss: 0.5942 - accuracy: 0.7032 - val_loss: 0.5924 - val_accuracy: 0.7144\n",
            "Epoch 20/30\n",
            "3977/3984 [============================>.] - ETA: 0s - loss: 0.5942 - accuracy: 0.7032\n",
            "Epoch 20: val_accuracy did not improve from 0.71511\n",
            "3984/3984 [==============================] - 25s 6ms/step - loss: 0.5941 - accuracy: 0.7032 - val_loss: 0.5999 - val_accuracy: 0.7006\n",
            "Epoch 21/30\n",
            "3978/3984 [============================>.] - ETA: 0s - loss: 0.5933 - accuracy: 0.7046\n",
            "Epoch 21: val_accuracy did not improve from 0.71511\n",
            "3984/3984 [==============================] - 25s 6ms/step - loss: 0.5934 - accuracy: 0.7045 - val_loss: 0.5928 - val_accuracy: 0.7097\n",
            "Epoch 22/30\n",
            "3981/3984 [============================>.] - ETA: 0s - loss: 0.5943 - accuracy: 0.7050\n",
            "Epoch 22: val_accuracy did not improve from 0.71511\n",
            "3984/3984 [==============================] - 25s 6ms/step - loss: 0.5943 - accuracy: 0.7049 - val_loss: 0.5920 - val_accuracy: 0.7115\n",
            "Epoch 23/30\n",
            "3979/3984 [============================>.] - ETA: 0s - loss: 0.5950 - accuracy: 0.7040\n",
            "Epoch 23: val_accuracy did not improve from 0.71511\n",
            "3984/3984 [==============================] - 25s 6ms/step - loss: 0.5952 - accuracy: 0.7040 - val_loss: 0.5888 - val_accuracy: 0.7148\n",
            "Epoch 24/30\n",
            "3980/3984 [============================>.] - ETA: 0s - loss: 0.5936 - accuracy: 0.7033\n",
            "Epoch 24: val_accuracy improved from 0.71511 to 0.71900, saving model to classifier_weights2-improvement-24-0.72.hdf5\n",
            "3984/3984 [==============================] - 24s 6ms/step - loss: 0.5937 - accuracy: 0.7033 - val_loss: 0.5830 - val_accuracy: 0.7190\n",
            "Epoch 25/30\n",
            "3980/3984 [============================>.] - ETA: 0s - loss: 0.6046 - accuracy: 0.7013\n",
            "Epoch 25: val_accuracy did not improve from 0.71900\n",
            "3984/3984 [==============================] - 24s 6ms/step - loss: 0.6046 - accuracy: 0.7013 - val_loss: 0.5928 - val_accuracy: 0.7053\n",
            "Epoch 26/30\n",
            "3975/3984 [============================>.] - ETA: 0s - loss: 0.5979 - accuracy: 0.7013\n",
            "Epoch 26: val_accuracy did not improve from 0.71900\n",
            "3984/3984 [==============================] - 24s 6ms/step - loss: 0.5980 - accuracy: 0.7012 - val_loss: 0.5942 - val_accuracy: 0.7078\n",
            "Epoch 27/30\n",
            "3977/3984 [============================>.] - ETA: 0s - loss: 0.5988 - accuracy: 0.6987\n",
            "Epoch 27: val_accuracy did not improve from 0.71900\n",
            "3984/3984 [==============================] - 25s 6ms/step - loss: 0.5988 - accuracy: 0.6987 - val_loss: 0.5940 - val_accuracy: 0.7080\n",
            "Epoch 28/30\n",
            "3978/3984 [============================>.] - ETA: 0s - loss: 0.5961 - accuracy: 0.7026\n",
            "Epoch 28: val_accuracy did not improve from 0.71900\n",
            "3984/3984 [==============================] - 25s 6ms/step - loss: 0.5961 - accuracy: 0.7025 - val_loss: 0.5906 - val_accuracy: 0.7132\n",
            "Epoch 29/30\n",
            "3982/3984 [============================>.] - ETA: 0s - loss: 0.5968 - accuracy: 0.7000\n",
            "Epoch 29: val_accuracy did not improve from 0.71900\n",
            "3984/3984 [==============================] - 25s 6ms/step - loss: 0.5968 - accuracy: 0.7001 - val_loss: 0.5892 - val_accuracy: 0.7082\n",
            "Epoch 30/30\n",
            "3981/3984 [============================>.] - ETA: 0s - loss: 0.6015 - accuracy: 0.7001\n",
            "Epoch 30: val_accuracy did not improve from 0.71900\n",
            "3984/3984 [==============================] - 24s 6ms/step - loss: 0.6016 - accuracy: 0.7000 - val_loss: 0.5876 - val_accuracy: 0.7123\n"
          ]
        }
      ]
    },
    {
      "cell_type": "markdown",
      "source": [
        "Plotting the results:"
      ],
      "metadata": {
        "id": "VLaz0XRbhHxq"
      }
    },
    {
      "cell_type": "code",
      "source": [
        "plt.plot(history.history['accuracy'])\n",
        "plt.plot(history.history['val_accuracy'])\n",
        "plt.title('Accuracy of the model')\n",
        "plt.ylabel('Accuracy')\n",
        "plt.xlabel('Epochs')\n",
        "plt.legend(['Train', 'Test'], loc='lower right')\n",
        "plt.show()\n",
        "\n",
        "plt.plot(history.history['loss'])\n",
        "plt.plot(history.history['val_loss'])\n",
        "plt.title('Loss metrics of the model')\n",
        "plt.ylabel('Loss')\n",
        "plt.xlabel('Epochs')\n",
        "plt.legend(['train', 'test'], loc='upper right')\n",
        "plt.show()"
      ],
      "metadata": {
        "id": "6W9AXuCDhKPB",
        "colab": {
          "base_uri": "https://localhost:8080/",
          "height": 573
        },
        "outputId": "0bc995df-384d-4c86-cd51-982d043a34a6"
      },
      "execution_count": 18,
      "outputs": [
        {
          "output_type": "display_data",
          "data": {
            "text/plain": [
              "<Figure size 432x288 with 1 Axes>"
            ],
            "image/png": "[encoded data removed]"
          },
          "metadata": {
            "needs_background": "light"
          }
        },
        {
          "output_type": "display_data",
          "data": {
            "text/plain": [
              "<Figure size 432x288 with 1 Axes>"
            ],
            "image/png": "[encoded data removed]"
          },
          "metadata": {
            "needs_background": "light"
          }
        }
      ]
    },
    {
      "cell_type": "markdown",
      "source": [
        "Check the performance of the model on predictions:"
      ],
      "metadata": {
        "id": "zuK6QGdyhWip"
      }
    },
    {
      "cell_type": "code",
      "source": [
        "best_epoch=np.argmax(history.history['val_accuracy'])\n",
        "best_acc=np.max(history.history['val_accuracy'])\n",
        "model.load_weights('/content/classifier_weights2-improvement-24-0.72.hdf5')\n",
        "predictions = model.predict(X_test)\n",
        "print(\"ROC AUC:\")\n",
        "roc_auc_score(y_test, predictions)"
      ],
      "metadata": {
        "id": "dm2VGlYAiucb",
        "outputId": "8599e3d2-ee60-48b9-8508-059cf7445aa6",
        "colab": {
          "base_uri": "https://localhost:8080/"
        }
      },
      "execution_count": 22,
      "outputs": [
        {
          "output_type": "stream",
          "name": "stdout",
          "text": [
            "ROC AUC:\n"
          ]
        },
        {
          "output_type": "execute_result",
          "data": {
            "text/plain": [
              "0.7709093792360007"
            ]
          },
          "metadata": {},
          "execution_count": 22
        }
      ]
    },
    {
      "cell_type": "markdown",
      "source": [
        "Classification Report and ROC AUC score:"
      ],
      "metadata": {
        "id": "P8Y71U6FixE5"
      }
    },
    {
      "cell_type": "code",
      "source": [
        "fpr, tpr, thresholds = roc_curve(y_test, predictions)\n",
        "roc_auc = auc(fpr, tpr)\n",
        "plt.title('Receiver Operating Characteristic')\n",
        "plt.plot(fpr, tpr, 'b', label = 'AUC = %0.2f' % roc_auc)\n",
        "plt.legend(loc = 'lower right')\n",
        "plt.plot([0, 1], [0, 1],'r--')\n",
        "plt.xlim([0, 1])\n",
        "plt.ylim([0, 1])\n",
        "plt.ylabel('True Positive Rate')\n",
        "plt.xlabel('False Positive Rate')\n",
        "plt.show()"
      ],
      "metadata": {
        "id": "sWfZcWBwjPje",
        "colab": {
          "base_uri": "https://localhost:8080/",
          "height": 295
        },
        "outputId": "9bf6e63e-0b36-4e51-e5a2-c751ea789d7e"
      },
      "execution_count": 21,
      "outputs": [
        {
          "output_type": "display_data",
          "data": {
            "text/plain": [
              "<Figure size 432x288 with 1 Axes>"
            ],
            "image/png": "[encoded data removed]"
          },
          "metadata": {
            "needs_background": "light"
          }
        }
      ]
    },
    {
      "cell_type": "markdown",
      "source": [
        "**References :**\n",
        "\n",
        "\n",
        "1.   [Examining Electron and Photon Classification Using Convolutional Neural Networks\n",
        "Jonah Warner, Research Assistant\n",
        "Department of Physics, Carnegie Mellon University, Pittsburgh 15213](https://www.cmu.edu/ai-physics-institute/outreach/surp/images/2021/jonah-warner-poster.pdf)\n",
        "2.   [End-to-End Event Classification of High-Energy\n",
        "Physics Data\n",
        "M Andrews\n",
        ", M Paulini\n",
        ", S Gleyzer\n",
        ", B Poczos](https://indico.cern.ch/event/567550/papers/2629451/files/7515-end-end-event_v4.pdf)\n",
        "3.   [Calorimetry with Deep Learning: Particle\n",
        "Classification, Energy Regression, and Simulation for\n",
        "High-Energy Physics\n",
        "Federico Carminati, Gulrukh Khattak, Maurizio Pierini\n",
        "CERN](https://dl4physicalsciences.github.io/files/nips_dlps_2017_15.pdf)\n",
        "4.  [Electron/Photon Ambiguity Resolution Using Neural\n",
        "networks For ATLAS Experiment\n",
        "Nutthawara Buatthaisong, Khon Kaen University, Thailand\n",
        "](https://www.desy.de/f/students/2019/reports/nutthawara.buatthaisong.pdf)\n"
      ],
      "metadata": {
        "id": "Z1wnCtwaPVGx"
      }
    }
  ]
}