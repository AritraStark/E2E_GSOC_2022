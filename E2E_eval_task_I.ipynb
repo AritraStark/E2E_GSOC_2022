{
  "nbformat": 4,
  "nbformat_minor": 0,
  "metadata": {
    "colab": {
      "name": "E2E_eval_task_I.ipynb",
      "provenance": [],
      "include_colab_link": true
    },
    "kernelspec": {
      "name": "python3",
      "display_name": "Python 3"
    },
    "language_info": {
      "name": "python"
    },
    "accelerator": "GPU"
  },
  "cells": [
    {
      "cell_type": "markdown",
      "metadata": {
        "id": "view-in-github",
        "colab_type": "text"
      },
      "source": [
        "<a href=\"https://colab.research.google.com/github/AritraStark/E2E_GSOC_2022/blob/main/E2E_eval_task_I.ipynb\" target=\"_parent\"><img src=\"https://colab.research.google.com/assets/colab-badge.svg\" alt=\"Open In Colab\"/></a>"
      ]
    },
    {
      "cell_type": "markdown",
      "source": [
        "**Common Task 1. Electron/photon classification**\n",
        "\n",
        "Datasets:\n",
        "\n",
        "https://cernbox.cern.ch/index.php/s/AtBT8y4MiQYFcgc (photons)\n",
        "\n",
        "https://cernbox.cern.ch/index.php/s/FbXw3V4XNyYB3oA (electrons)\n",
        "\n",
        "Description: 32x32 matrices (two channels - hit energy and time) for two classes of particles electrons and photons impinging on a calorimeter\n",
        "Please use a deep learning method of your choice to achieve the highest possible\n",
        "classification on this dataset (we ask that you do it both in Keras/Tensorflow and in PyTorch). Please provide a Jupyter notebook that shows your solution. The model yousubmit should have a ROC AUC score of at least 0.80."
      ],
      "metadata": {
        "id": "vsTucLeyQCsU"
      }
    },
    {
      "cell_type": "markdown",
      "source": [
        "Downloading the datasets from the links provided: "
      ],
      "metadata": {
        "id": "VBwlRChLQCga"
      }
    },
    {
      "cell_type": "code",
      "source": [
        "!wget https://cernbox.cern.ch/index.php/s/AtBT8y4MiQYFcgc/download -O photons.hdf5\n",
        "!wget https://cernbox.cern.ch/index.php/s/FbXw3V4XNyYB3oA/download -O electrons.hdf5"
      ],
      "metadata": {
        "colab": {
          "base_uri": "https://localhost:8080/"
        },
        "id": "qaIFeaOAc4bN",
        "outputId": "10cedeac-e535-4f2f-f975-bd1b31ba5487"
      },
      "execution_count": null,
      "outputs": [
        {
          "output_type": "stream",
          "name": "stdout",
          "text": [
            "--2022-04-04 15:41:23--  https://cernbox.cern.ch/index.php/s/AtBT8y4MiQYFcgc/download\n",
            "Resolving cernbox.cern.ch (cernbox.cern.ch)... 128.142.170.17, 188.184.97.72, 137.138.120.151, ...\n",
            "Connecting to cernbox.cern.ch (cernbox.cern.ch)|128.142.170.17|:443... connected.\n",
            "HTTP request sent, awaiting response... 200 OK\n",
            "Length: 119703858 (114M) [application/octet-stream]\n",
            "Saving to: ‘photons.hdf5’\n",
            "\n",
            "photons.hdf5        100%[===================>] 114.16M   121MB/s    in 0.9s    \n",
            "\n",
            "Last-modified header invalid -- time-stamp ignored.\n",
            "2022-04-04 15:41:26 (121 MB/s) - ‘photons.hdf5’ saved [119703858/119703858]\n",
            "\n",
            "--2022-04-04 15:41:26--  https://cernbox.cern.ch/index.php/s/FbXw3V4XNyYB3oA/download\n",
            "Resolving cernbox.cern.ch (cernbox.cern.ch)... 128.142.170.17, 188.184.97.72, 137.138.120.151, ...\n",
            "Connecting to cernbox.cern.ch (cernbox.cern.ch)|128.142.170.17|:443... connected.\n",
            "HTTP request sent, awaiting response... 200 OK\n",
            "Length: 128927319 (123M) [application/octet-stream]\n",
            "Saving to: ‘electrons.hdf5’\n",
            "\n",
            "electrons.hdf5      100%[===================>] 122.95M   119MB/s    in 1.0s    \n",
            "\n",
            "Last-modified header invalid -- time-stamp ignored.\n",
            "2022-04-04 15:41:29 (119 MB/s) - ‘electrons.hdf5’ saved [128927319/128927319]\n",
            "\n"
          ]
        }
      ]
    },
    {
      "cell_type": "markdown",
      "source": [
        "Setting up the imports:"
      ],
      "metadata": {
        "id": "KKyu1QBLc9Dx"
      }
    },
    {
      "cell_type": "code",
      "source": [
        "import numpy as np\n",
        "import tensorflow as tf\n",
        "import h5py\n",
        "import pandas as pd\n",
        "import matplotlib.pyplot as plt\n",
        "from sklearn.model_selection import train_test_split\n",
        "from sklearn.metrics import classification_report\n",
        "from sklearn.metrics import roc_auc_score, roc_curve, auc\n",
        "\n",
        "print(tf.__version__)"
      ],
      "metadata": {
        "colab": {
          "base_uri": "https://localhost:8080/"
        },
        "id": "bbTnS9MPdCCm",
        "outputId": "56ef38ef-083f-44ac-d109-c81b8d01677c"
      },
      "execution_count": null,
      "outputs": [
        {
          "output_type": "stream",
          "name": "stdout",
          "text": [
            "2.8.0\n"
          ]
        }
      ]
    },
    {
      "cell_type": "markdown",
      "source": [
        "Get the data from the downloaded HDF5 files and combine the loaded datasets:"
      ],
      "metadata": {
        "id": "9X8Ns4T3ebZ4"
      }
    },
    {
      "cell_type": "code",
      "source": [
        "X_electron = np.array(h5py.File(\"electrons.hdf5\",'r').get(name=\"X\")[()])\n",
        "y_electron = np.array(h5py.File(\"electrons.hdf5\",'r').get(name=\"y\")[()])\n",
        "X_photon = np.array(h5py.File(\"photons.hdf5\",'r').get(name=\"X\")[()])\n",
        "y_photon = np.array(h5py.File(\"photons.hdf5\",'r').get(name=\"y\")[()])\n",
        "\n",
        "X_particles = np.concatenate((X_electron,X_photon),axis=0)\n",
        "y_particles = np.concatenate((y_electron,y_photon),axis=0)\n",
        "print(X_particles.shape,y_particles.shape)\n",
        "\n",
        "del X_electron\n",
        "del X_photon\n",
        "del y_electron\n",
        "del y_photon\n",
        "\n",
        "index = np.random.permutation(len(y_particles))\n",
        "X_particles, y_particles = X_particles[index][:,:,:,0].reshape((-1,32*32)), y_particles[index]"
      ],
      "metadata": {
        "colab": {
          "base_uri": "https://localhost:8080/"
        },
        "id": "ZNhJPOwKeldg",
        "outputId": "3fbbd7d9-ffda-4c5e-da25-eb365cf2b978"
      },
      "execution_count": null,
      "outputs": [
        {
          "output_type": "stream",
          "name": "stdout",
          "text": [
            "(498000, 32, 32, 2) (498000,)\n"
          ]
        }
      ]
    },
    {
      "cell_type": "markdown",
      "source": [
        "Splitting the data into training and testing sets ( I have split it in 80-20 as per instructions): "
      ],
      "metadata": {
        "id": "B_96cSfhb3G7"
      }
    },
    {
      "cell_type": "code",
      "source": [
        "X_train, X_test, y_train, y_test = train_test_split( X_particles, y_particles, random_state=48, test_size=0.2 )\n",
        "\n",
        "del X_particles\n",
        "del y_particles\n",
        "\n",
        "#X_train, X_test, y_train, y_test = train_test_split( X_train_m, y_train_m, random_state=48, test_size=0.2 )\n",
        "X_train.shape, X_test.shape, y_train.shape, y_test.shape"
      ],
      "metadata": {
        "id": "hyDuWD1Sb6tY",
        "colab": {
          "base_uri": "https://localhost:8080/"
        },
        "outputId": "5f5ba90d-de8f-4120-ac6c-1777faefed89"
      },
      "execution_count": null,
      "outputs": [
        {
          "output_type": "execute_result",
          "data": {
            "text/plain": [
              "((398400, 1024), (99600, 1024), (398400,), (99600,))"
            ]
          },
          "metadata": {},
          "execution_count": 4
        }
      ]
    },
    {
      "cell_type": "markdown",
      "source": [
        "Defining the VGG model:"
      ],
      "metadata": {
        "id": "AEYtfPYbco75"
      }
    },
    {
      "cell_type": "code",
      "source": [
        "model = tf.keras.applications.VGG16(\n",
        "          include_top=True, \n",
        "          weights=None,\n",
        "          input_shape=(32,32,1),\n",
        "          classes=1,\n",
        "          classifier_activation='sigmoid'\n",
        ")"
      ],
      "metadata": {
        "id": "y0xTbBylqJfn"
      },
      "execution_count": null,
      "outputs": []
    },
    {
      "cell_type": "markdown",
      "source": [
        "Defining a CNN model:"
      ],
      "metadata": {
        "id": "yXQ1udoEzeds"
      }
    },
    {
      "cell_type": "code",
      "source": [
        "model = tf.keras.models.Sequential([\n",
        "  tf.keras.layers.Dense(512, activation = 'relu', input_shape= (32*32,)),\n",
        "  tf.keras.layers.Dropout(0.5),\n",
        "  tf.keras.layers.Dense(512, activation = 'relu'),\n",
        "  tf.keras.layers.Dropout(0.5),\n",
        "  tf.keras.layers.Dense(512, activation = 'relu'),\n",
        "  tf.keras.layers.Dropout(0.5),\n",
        "  tf.keras.layers.Dense(512, activation = 'relu'),\n",
        "  tf.keras.layers.Dropout(0.5),\n",
        "  tf.keras.layers.Dense(1, activation = 'sigmoid')\n",
        "])"
      ],
      "metadata": {
        "id": "GjZA7FP8cyMg"
      },
      "execution_count": null,
      "outputs": []
    },
    {
      "cell_type": "markdown",
      "source": [
        "Get model summary:"
      ],
      "metadata": {
        "id": "BVNvMPHUzbJQ"
      }
    },
    {
      "cell_type": "code",
      "source": [
        "model.summary()"
      ],
      "metadata": {
        "colab": {
          "base_uri": "https://localhost:8080/"
        },
        "id": "7VESf50jzSJr",
        "outputId": "82494ce7-fc55-46e8-990f-f8cd7359f12b"
      },
      "execution_count": null,
      "outputs": [
        {
          "output_type": "stream",
          "name": "stdout",
          "text": [
            "Model: \"sequential_3\"\n",
            "_________________________________________________________________\n",
            " Layer (type)                Output Shape              Param #   \n",
            "=================================================================\n",
            " dense_26 (Dense)            (None, 512)               524800    \n",
            "                                                                 \n",
            " dropout_23 (Dropout)        (None, 512)               0         \n",
            "                                                                 \n",
            " dense_27 (Dense)            (None, 512)               262656    \n",
            "                                                                 \n",
            " dropout_24 (Dropout)        (None, 512)               0         \n",
            "                                                                 \n",
            " dense_28 (Dense)            (None, 256)               131328    \n",
            "                                                                 \n",
            " dropout_25 (Dropout)        (None, 256)               0         \n",
            "                                                                 \n",
            " dense_29 (Dense)            (None, 256)               65792     \n",
            "                                                                 \n",
            " dropout_26 (Dropout)        (None, 256)               0         \n",
            "                                                                 \n",
            " dense_30 (Dense)            (None, 256)               65792     \n",
            "                                                                 \n",
            " dropout_27 (Dropout)        (None, 256)               0         \n",
            "                                                                 \n",
            " dense_31 (Dense)            (None, 256)               65792     \n",
            "                                                                 \n",
            " dropout_28 (Dropout)        (None, 256)               0         \n",
            "                                                                 \n",
            " dense_32 (Dense)            (None, 256)               65792     \n",
            "                                                                 \n",
            " dropout_29 (Dropout)        (None, 256)               0         \n",
            "                                                                 \n",
            " dense_33 (Dense)            (None, 1)                 257       \n",
            "                                                                 \n",
            "=================================================================\n",
            "Total params: 1,182,209\n",
            "Trainable params: 1,182,209\n",
            "Non-trainable params: 0\n",
            "_________________________________________________________________\n"
          ]
        }
      ]
    },
    {
      "cell_type": "markdown",
      "source": [
        "Defining callbacks:"
      ],
      "metadata": {
        "id": "fEdVlpnygsgL"
      }
    },
    {
      "cell_type": "code",
      "source": [
        "filepath=\"classifier_weights2-improvement-{epoch:02d}-{val_accuracy:.2f}.hdf5\"\n",
        "checkpoint1 = tf.keras.callbacks.ModelCheckpoint(filepath, monitor='val_accuracy', verbose=1, save_best_only=True, mode='max')\n",
        "callbacks_list = [checkpoint1]"
      ],
      "metadata": {
        "id": "9VM4NKsZgu8Z"
      },
      "execution_count": null,
      "outputs": []
    },
    {
      "cell_type": "markdown",
      "source": [
        "Compiling the model and fitting it with testing data:"
      ],
      "metadata": {
        "id": "9SFMBIyAgZ2i"
      }
    },
    {
      "cell_type": "code",
      "source": [
        "model.compile(optimizer=tf.keras.optimizers.Adam(learning_rate=0.001),loss='binary_crossentropy',metrics=['accuracy'])\n",
        "history = model.fit(X_train,  y_train, \n",
        "                    validation_split=0.2, \n",
        "                    epochs=20, \n",
        "                    callbacks=callbacks_list\n",
        ")"
      ],
      "metadata": {
        "id": "GBlYFXwGgf3r",
        "colab": {
          "base_uri": "https://localhost:8080/"
        },
        "outputId": "51cf9bc4-c5e1-48c4-ce8c-97a06b1808ff"
      },
      "execution_count": null,
      "outputs": [
        {
          "output_type": "stream",
          "name": "stdout",
          "text": [
            "Epoch 1/20\n",
            "9952/9960 [============================>.] - ETA: 0s - loss: 0.5750 - accuracy: 0.7133\n",
            "Epoch 1: val_accuracy did not improve from 0.72594\n",
            "9960/9960 [==============================] - 51s 5ms/step - loss: 0.5750 - accuracy: 0.7133 - val_loss: 0.5603 - val_accuracy: 0.7218\n",
            "Epoch 2/20\n",
            "9953/9960 [============================>.] - ETA: 0s - loss: 0.5732 - accuracy: 0.7149\n",
            "Epoch 2: val_accuracy did not improve from 0.72594\n",
            "9960/9960 [==============================] - 50s 5ms/step - loss: 0.5732 - accuracy: 0.7149 - val_loss: 0.5653 - val_accuracy: 0.7192\n",
            "Epoch 3/20\n",
            "9952/9960 [============================>.] - ETA: 0s - loss: 0.5731 - accuracy: 0.7149\n",
            "Epoch 3: val_accuracy did not improve from 0.72594\n",
            "9960/9960 [==============================] - 50s 5ms/step - loss: 0.5730 - accuracy: 0.7149 - val_loss: 0.5565 - val_accuracy: 0.7244\n",
            "Epoch 4/20\n",
            "9950/9960 [============================>.] - ETA: 0s - loss: 0.5734 - accuracy: 0.7147\n",
            "Epoch 4: val_accuracy did not improve from 0.72594\n",
            "9960/9960 [==============================] - 50s 5ms/step - loss: 0.5734 - accuracy: 0.7147 - val_loss: 0.5659 - val_accuracy: 0.7219\n",
            "Epoch 5/20\n",
            "9955/9960 [============================>.] - ETA: 0s - loss: 0.5740 - accuracy: 0.7144\n",
            "Epoch 5: val_accuracy did not improve from 0.72594\n",
            "9960/9960 [==============================] - 50s 5ms/step - loss: 0.5740 - accuracy: 0.7144 - val_loss: 0.5597 - val_accuracy: 0.7246\n",
            "Epoch 6/20\n",
            "9960/9960 [==============================] - ETA: 0s - loss: 0.5734 - accuracy: 0.7155\n",
            "Epoch 6: val_accuracy did not improve from 0.72594\n",
            "9960/9960 [==============================] - 50s 5ms/step - loss: 0.5734 - accuracy: 0.7155 - val_loss: 0.5617 - val_accuracy: 0.7235\n",
            "Epoch 7/20\n",
            "9953/9960 [============================>.] - ETA: 0s - loss: 0.5729 - accuracy: 0.7145\n",
            "Epoch 7: val_accuracy did not improve from 0.72594\n",
            "9960/9960 [==============================] - 51s 5ms/step - loss: 0.5730 - accuracy: 0.7145 - val_loss: 0.5701 - val_accuracy: 0.7193\n",
            "Epoch 8/20\n",
            "9954/9960 [============================>.] - ETA: 0s - loss: 0.5727 - accuracy: 0.7159\n",
            "Epoch 8: val_accuracy did not improve from 0.72594\n",
            "9960/9960 [==============================] - 51s 5ms/step - loss: 0.5726 - accuracy: 0.7159 - val_loss: 0.5621 - val_accuracy: 0.7235\n",
            "Epoch 9/20\n",
            "9956/9960 [============================>.] - ETA: 0s - loss: 0.5723 - accuracy: 0.7169\n",
            "Epoch 9: val_accuracy did not improve from 0.72594\n",
            "9960/9960 [==============================] - 50s 5ms/step - loss: 0.5723 - accuracy: 0.7169 - val_loss: 0.5597 - val_accuracy: 0.7253\n",
            "Epoch 10/20\n",
            "9960/9960 [==============================] - ETA: 0s - loss: 0.5726 - accuracy: 0.7164\n",
            "Epoch 10: val_accuracy improved from 0.72594 to 0.72608, saving model to classifier_weights2-improvement-10-0.73.hdf5\n",
            "9960/9960 [==============================] - 50s 5ms/step - loss: 0.5726 - accuracy: 0.7164 - val_loss: 0.5595 - val_accuracy: 0.7261\n",
            "Epoch 11/20\n",
            "9954/9960 [============================>.] - ETA: 0s - loss: 0.5721 - accuracy: 0.7170\n",
            "Epoch 11: val_accuracy did not improve from 0.72608\n",
            "9960/9960 [==============================] - 51s 5ms/step - loss: 0.5721 - accuracy: 0.7170 - val_loss: 0.5613 - val_accuracy: 0.7203\n",
            "Epoch 12/20\n",
            "9957/9960 [============================>.] - ETA: 0s - loss: 0.5722 - accuracy: 0.7161\n",
            "Epoch 12: val_accuracy did not improve from 0.72608\n",
            "9960/9960 [==============================] - 51s 5ms/step - loss: 0.5721 - accuracy: 0.7161 - val_loss: 0.5599 - val_accuracy: 0.7243\n",
            "Epoch 13/20\n",
            "9956/9960 [============================>.] - ETA: 0s - loss: 0.5721 - accuracy: 0.7162\n",
            "Epoch 13: val_accuracy did not improve from 0.72608\n",
            "9960/9960 [==============================] - 51s 5ms/step - loss: 0.5721 - accuracy: 0.7161 - val_loss: 0.5635 - val_accuracy: 0.7212\n",
            "Epoch 14/20\n",
            "9958/9960 [============================>.] - ETA: 0s - loss: 0.5720 - accuracy: 0.7162\n",
            "Epoch 14: val_accuracy did not improve from 0.72608\n",
            "9960/9960 [==============================] - 50s 5ms/step - loss: 0.5720 - accuracy: 0.7162 - val_loss: 0.5591 - val_accuracy: 0.7229\n",
            "Epoch 15/20\n",
            "9958/9960 [============================>.] - ETA: 0s - loss: 0.5717 - accuracy: 0.7171\n",
            "Epoch 15: val_accuracy improved from 0.72608 to 0.72915, saving model to classifier_weights2-improvement-15-0.73.hdf5\n",
            "9960/9960 [==============================] - 51s 5ms/step - loss: 0.5717 - accuracy: 0.7171 - val_loss: 0.5608 - val_accuracy: 0.7292\n",
            "Epoch 16/20\n",
            "9960/9960 [==============================] - ETA: 0s - loss: 0.5721 - accuracy: 0.7166\n",
            "Epoch 16: val_accuracy did not improve from 0.72915\n",
            "9960/9960 [==============================] - 51s 5ms/step - loss: 0.5721 - accuracy: 0.7166 - val_loss: 0.5607 - val_accuracy: 0.7269\n",
            "Epoch 17/20\n",
            "9958/9960 [============================>.] - ETA: 0s - loss: 0.5720 - accuracy: 0.7169\n",
            "Epoch 17: val_accuracy did not improve from 0.72915\n",
            "9960/9960 [==============================] - 51s 5ms/step - loss: 0.5720 - accuracy: 0.7169 - val_loss: 0.5635 - val_accuracy: 0.7163\n",
            "Epoch 18/20\n",
            "9954/9960 [============================>.] - ETA: 0s - loss: 0.5714 - accuracy: 0.7179\n",
            "Epoch 18: val_accuracy did not improve from 0.72915\n",
            "9960/9960 [==============================] - 51s 5ms/step - loss: 0.5715 - accuracy: 0.7179 - val_loss: 0.5623 - val_accuracy: 0.7247\n",
            "Epoch 19/20\n",
            "9958/9960 [============================>.] - ETA: 0s - loss: 0.5722 - accuracy: 0.7171\n",
            "Epoch 19: val_accuracy did not improve from 0.72915\n",
            "9960/9960 [==============================] - 50s 5ms/step - loss: 0.5723 - accuracy: 0.7171 - val_loss: 0.5616 - val_accuracy: 0.7245\n",
            "Epoch 20/20\n",
            "9949/9960 [============================>.] - ETA: 0s - loss: 0.5717 - accuracy: 0.7172\n",
            "Epoch 20: val_accuracy did not improve from 0.72915\n",
            "9960/9960 [==============================] - 51s 5ms/step - loss: 0.5717 - accuracy: 0.7172 - val_loss: 0.5677 - val_accuracy: 0.7273\n"
          ]
        }
      ]
    },
    {
      "cell_type": "markdown",
      "source": [
        "Plotting the results:"
      ],
      "metadata": {
        "id": "VLaz0XRbhHxq"
      }
    },
    {
      "cell_type": "code",
      "source": [
        "plt.plot(history.history['accuracy'])\n",
        "plt.plot(history.history['val_accuracy'])\n",
        "plt.title('Accuracy of the model')\n",
        "plt.ylabel('Accuracy')\n",
        "plt.xlabel('Epochs')\n",
        "plt.legend(['Train', 'Test'], loc='lower right')\n",
        "plt.show()\n",
        "\n",
        "plt.plot(history.history['loss'])\n",
        "plt.plot(history.history['val_loss'])\n",
        "plt.title('Loss metrics of the model')\n",
        "plt.ylabel('Loss')\n",
        "plt.xlabel('Epochs')\n",
        "plt.legend(['train', 'test'], loc='upper right')\n",
        "plt.show()"
      ],
      "metadata": {
        "id": "6W9AXuCDhKPB",
        "colab": {
          "base_uri": "https://localhost:8080/",
          "height": 573
        },
        "outputId": "5c1ab4c2-3b2e-4c38-a3c6-43aa5dc476b2"
      },
      "execution_count": null,
      "outputs": [
        {
          "output_type": "display_data",
          "data": {
            "text/plain": [
              "<Figure size 432x288 with 1 Axes>"
            ],
            "image/png": "[encoded data removed]"
          },
          "metadata": {
            "needs_background": "light"
          }
        },
        {
          "output_type": "display_data",
          "data": {
            "text/plain": [
              "<Figure size 432x288 with 1 Axes>"
            ],
            "image/png": "[encoded data removed]"
          },
          "metadata": {
            "needs_background": "light"
          }
        }
      ]
    },
    {
      "cell_type": "markdown",
      "source": [
        "Check the performance of the model on predictions:"
      ],
      "metadata": {
        "id": "zuK6QGdyhWip"
      }
    },
    {
      "cell_type": "code",
      "source": [
        "best_epoch=np.argmax(history.history['val_accuracy'])\n",
        "best_acc=np.max(history.history['val_accuracy'])\n",
        "model.load_weights('/content/classifier_weights2-improvement-15-0.73.hdf5')\n",
        "predictions = model.predict(X_test)\n",
        "print(\"ROC AUC:\")\n",
        "roc_auc_score(y_test, predictions)"
      ],
      "metadata": {
        "id": "dm2VGlYAiucb",
        "colab": {
          "base_uri": "https://localhost:8080/"
        },
        "outputId": "c40e602b-3946-407e-9882-4715a67330bb"
      },
      "execution_count": null,
      "outputs": [
        {
          "output_type": "stream",
          "name": "stdout",
          "text": [
            "ROC AUC:\n"
          ]
        },
        {
          "output_type": "execute_result",
          "data": {
            "text/plain": [
              "0.7853177911179511"
            ]
          },
          "metadata": {},
          "execution_count": 43
        }
      ]
    },
    {
      "cell_type": "markdown",
      "source": [
        "Classification Report and ROC AUC score:"
      ],
      "metadata": {
        "id": "P8Y71U6FixE5"
      }
    },
    {
      "cell_type": "code",
      "source": [
        "fpr, tpr, thresholds = roc_curve(y_test, predictions)\n",
        "roc_auc = auc(fpr, tpr)\n",
        "plt.title('Receiver Operating Characteristic')\n",
        "plt.plot(fpr, tpr, 'b', label = 'AUC = %0.2f' % roc_auc)\n",
        "plt.legend(loc = 'lower right')\n",
        "plt.plot([0, 1], [0, 1],'r--')\n",
        "plt.xlim([0, 1])\n",
        "plt.ylim([0, 1])\n",
        "plt.ylabel('True Positive Rate')\n",
        "plt.xlabel('False Positive Rate')\n",
        "plt.show()"
      ],
      "metadata": {
        "id": "sWfZcWBwjPje",
        "colab": {
          "base_uri": "https://localhost:8080/",
          "height": 295
        },
        "outputId": "45e3f113-0d26-446e-eff7-d65915195700"
      },
      "execution_count": null,
      "outputs": [
        {
          "output_type": "display_data",
          "data": {
            "text/plain": [
              "<Figure size 432x288 with 1 Axes>"
            ],
            "image/png": "[encoded data removed]"
          },
          "metadata": {
            "needs_background": "light"
          }
        }
      ]
    },
    {
      "cell_type": "markdown",
      "source": [
        "The model that I have used here is a linear Neural Network and achieved almost 0.80 ROC AUC score. Due to the high volume of the dataset using a pre-trained model like VGG or ResNet has been difficult due to the limitations of the online resources provided in colab but could theoretically achieve higher ROC AUC score."
      ],
      "metadata": {
        "id": "FoyVdf_p65-0"
      }
    },
    {
      "cell_type": "markdown",
      "source": [
        "**References :**\n",
        "\n",
        "\n",
        "1.   [Examining Electron and Photon Classification Using Convolutional Neural Networks\n",
        "Jonah Warner, Research Assistant\n",
        "Department of Physics, Carnegie Mellon University, Pittsburgh 15213](https://www.cmu.edu/ai-physics-institute/outreach/surp/images/2021/jonah-warner-poster.pdf)\n",
        "2.   [End-to-End Event Classification of High-Energy\n",
        "Physics Data\n",
        "M Andrews\n",
        ", M Paulini\n",
        ", S Gleyzer\n",
        ", B Poczos](https://indico.cern.ch/event/567550/papers/2629451/files/7515-end-end-event_v4.pdf)\n",
        "3.   [Calorimetry with Deep Learning: Particle\n",
        "Classification, Energy Regression, and Simulation for\n",
        "High-Energy Physics\n",
        "Federico Carminati, Gulrukh Khattak, Maurizio Pierini\n",
        "CERN](https://dl4physicalsciences.github.io/files/nips_dlps_2017_15.pdf)\n",
        "4.  [Electron/Photon Ambiguity Resolution Using Neural\n",
        "networks For ATLAS Experiment\n",
        "Nutthawara Buatthaisong, Khon Kaen University, Thailand\n",
        "](https://www.desy.de/f/students/2019/reports/nutthawara.buatthaisong.pdf)\n"
      ],
      "metadata": {
        "id": "Z1wnCtwaPVGx"
      }
    }
  ]
}