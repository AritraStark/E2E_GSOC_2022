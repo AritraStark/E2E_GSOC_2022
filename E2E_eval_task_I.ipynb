{
  "nbformat": 4,
  "nbformat_minor": 0,
  "metadata": {
    "colab": {
      "name": "E2E_eval_task_I.ipynb",
      "provenance": [],
      "authorship_tag": "ABX9TyNhAZIGvbT2EMD2TyYau9Oc",
      "include_colab_link": true
    },
    "kernelspec": {
      "name": "python3",
      "display_name": "Python 3"
    },
    "language_info": {
      "name": "python"
    }
  },
  "cells": [
    {
      "cell_type": "markdown",
      "metadata": {
        "id": "view-in-github",
        "colab_type": "text"
      },
      "source": [
        "<a href=\"https://colab.research.google.com/github/AritraStark/E2E_GSOC_2022/blob/main/E2E_eval_task_I.ipynb\" target=\"_parent\"><img src=\"https://colab.research.google.com/assets/colab-badge.svg\" alt=\"Open In Colab\"/></a>"
      ]
    },
    {
      "cell_type": "markdown",
      "source": [
        "**Common Task 1. Electron/photon classification**\n",
        "\n",
        "Datasets:\n",
        "\n",
        "https://cernbox.cern.ch/index.php/s/AtBT8y4MiQYFcgc (photons)\n",
        "\n",
        "https://cernbox.cern.ch/index.php/s/FbXw3V4XNyYB3oA (electrons)\n",
        "\n",
        "Description: 32x32 matrices (two channels - hit energy and time) for two classes of particles electrons and photons impinging on a calorimeter\n",
        "Please use a deep learning method of your choice to achieve the highest possible\n",
        "classification on this dataset (we ask that you do it both in Keras/Tensorflow and in PyTorch). Please provide a Jupyter notebook that shows your solution. The model yousubmit should have a ROC AUC score of at least 0.80."
      ],
      "metadata": {
        "id": "vsTucLeyQCsU"
      }
    },
    {
      "cell_type": "markdown",
      "source": [
        "Downloading the datasets from the links provided: "
      ],
      "metadata": {
        "id": "VBwlRChLQCga"
      }
    },
    {
      "cell_type": "code",
      "source": [
        "!wget https://cernbox.cern.ch/index.php/s/AtBT8y4MiQYFcgc/download -O photons.hdf5\n",
        "!wget https://cernbox.cern.ch/index.php/s/FbXw3V4XNyYB3oA/download -O electrons.hdf5"
      ],
      "metadata": {
        "colab": {
          "base_uri": "https://localhost:8080/"
        },
        "id": "qaIFeaOAc4bN",
        "outputId": "1fc1dcbf-ccc8-4823-ddf7-6cdeb5770e82"
      },
      "execution_count": 1,
      "outputs": [
        {
          "output_type": "stream",
          "name": "stdout",
          "text": [
            "--2022-03-16 06:50:03--  https://cernbox.cern.ch/index.php/s/AtBT8y4MiQYFcgc/download\n",
            "Resolving cernbox.cern.ch (cernbox.cern.ch)... 188.184.97.72, 128.142.53.35, 137.138.120.151, ...\n",
            "Connecting to cernbox.cern.ch (cernbox.cern.ch)|188.184.97.72|:443... connected.\n",
            "HTTP request sent, awaiting response... 200 OK\n",
            "Length: 119703858 (114M) [application/octet-stream]\n",
            "Saving to: ‘photons.hdf5’\n",
            "\n",
            "photons.hdf5        100%[===================>] 114.16M  22.9MB/s    in 5.9s    \n",
            "\n",
            "Last-modified header invalid -- time-stamp ignored.\n",
            "2022-03-16 06:50:12 (19.3 MB/s) - ‘photons.hdf5’ saved [119703858/119703858]\n",
            "\n",
            "--2022-03-16 06:50:12--  https://cernbox.cern.ch/index.php/s/FbXw3V4XNyYB3oA/download\n",
            "Resolving cernbox.cern.ch (cernbox.cern.ch)... 128.142.53.28, 137.138.120.151, 128.142.53.35, ...\n",
            "Connecting to cernbox.cern.ch (cernbox.cern.ch)|128.142.53.28|:443... connected.\n",
            "HTTP request sent, awaiting response... 200 OK\n",
            "Length: 128927319 (123M) [application/octet-stream]\n",
            "Saving to: ‘electrons.hdf5’\n",
            "\n",
            "electrons.hdf5      100%[===================>] 122.95M  22.8MB/s    in 6.6s    \n",
            "\n",
            "Last-modified header invalid -- time-stamp ignored.\n",
            "2022-03-16 06:50:21 (18.7 MB/s) - ‘electrons.hdf5’ saved [128927319/128927319]\n",
            "\n"
          ]
        }
      ]
    },
    {
      "cell_type": "markdown",
      "source": [
        "Setting up the imports:"
      ],
      "metadata": {
        "id": "KKyu1QBLc9Dx"
      }
    },
    {
      "cell_type": "code",
      "source": [
        "import numpy as np\n",
        "import tensorflow as tf\n",
        "import h5py\n",
        "import pandas as pd\n",
        "import matplotlib.pyplot as plt\n",
        "\n",
        "print(tf.__version__)"
      ],
      "metadata": {
        "colab": {
          "base_uri": "https://localhost:8080/"
        },
        "id": "bbTnS9MPdCCm",
        "outputId": "26668fe7-3582-4c60-b2e2-aa862eff64e2"
      },
      "execution_count": 2,
      "outputs": [
        {
          "output_type": "stream",
          "name": "stdout",
          "text": [
            "2.8.0\n"
          ]
        }
      ]
    },
    {
      "cell_type": "markdown",
      "source": [
        "Get the data from the downloaded HDF5 files and combine the loaded datasets:"
      ],
      "metadata": {
        "id": "9X8Ns4T3ebZ4"
      }
    },
    {
      "cell_type": "code",
      "source": [
        "X_electron = np.array(h5py.File(\"electrons.hdf5\",'r').get(name=\"X\")[()])\n",
        "y_electron = np.array(h5py.File(\"electrons.hdf5\",'r').get(name=\"y\")[()])\n",
        "X_photon = np.array(h5py.File(\"photons.hdf5\",'r').get(name=\"X\")[()])\n",
        "y_photon = np.array(h5py.File(\"photons.hdf5\",'r').get(name=\"y\")[()])\n",
        "\n",
        "X_particles = np.concatenate((X_electron,X_photon),axis=0)\n",
        "y_particles = np.concatenate((y_electron,y_photon),axis=0)\n",
        "print(X_particles.shape,y_particles.shape)"
      ],
      "metadata": {
        "colab": {
          "base_uri": "https://localhost:8080/"
        },
        "id": "ZNhJPOwKeldg",
        "outputId": "23fb1a78-59e9-48b7-9c57-7a59af3dc053"
      },
      "execution_count": 4,
      "outputs": [
        {
          "output_type": "stream",
          "name": "stdout",
          "text": [
            "(498000, 32, 32, 2) (498000,)\n"
          ]
        }
      ]
    },
    {
      "cell_type": "markdown",
      "source": [
        "**References :**\n",
        "\n",
        "\n",
        "1.   [Examining Electron and Photon Classification Using Convolutional Neural Networks\n",
        "Jonah Warner, Research Assistant\n",
        "Department of Physics, Carnegie Mellon University, Pittsburgh 15213](https://www.cmu.edu/ai-physics-institute/outreach/surp/images/2021/jonah-warner-poster.pdf)\n",
        "2.   [End-to-End Event Classification of High-Energy\n",
        "Physics Data\n",
        "M Andrews\n",
        ", M Paulini\n",
        ", S Gleyzer\n",
        ", B Poczos](https://indico.cern.ch/event/567550/papers/2629451/files/7515-end-end-event_v4.pdf)\n",
        "3.   [Calorimetry with Deep Learning: Particle\n",
        "Classification, Energy Regression, and Simulation for\n",
        "High-Energy Physics\n",
        "Federico Carminati, Gulrukh Khattak, Maurizio Pierini\n",
        "CERN](https://dl4physicalsciences.github.io/files/nips_dlps_2017_15.pdf)\n",
        "4.  [Electron/Photon Ambiguity Resolution Using Neural\n",
        "networks For ATLAS Experiment\n",
        "Nutthawara Buatthaisong, Khon Kaen University, Thailand\n",
        "](https://www.desy.de/f/students/2019/reports/nutthawara.buatthaisong.pdf)\n"
      ],
      "metadata": {
        "id": "Z1wnCtwaPVGx"
      }
    }
  ]
}