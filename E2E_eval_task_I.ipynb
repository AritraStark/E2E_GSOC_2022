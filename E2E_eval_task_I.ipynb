{
  "nbformat": 4,
  "nbformat_minor": 0,
  "metadata": {
    "colab": {
      "name": "E2E_eval_task_I.ipynb",
      "provenance": [],
      "authorship_tag": "ABX9TyONUzGODMxKpElor5Zx/rMM",
      "include_colab_link": true
    },
    "kernelspec": {
      "name": "python3",
      "display_name": "Python 3"
    },
    "language_info": {
      "name": "python"
    }
  },
  "cells": [
    {
      "cell_type": "markdown",
      "metadata": {
        "id": "view-in-github",
        "colab_type": "text"
      },
      "source": [
        "<a href=\"https://colab.research.google.com/github/AritraStark/E2E_GSOC_2022/blob/main/E2E_eval_task_I.ipynb\" target=\"_parent\"><img src=\"https://colab.research.google.com/assets/colab-badge.svg\" alt=\"Open In Colab\"/></a>"
      ]
    },
    {
      "cell_type": "markdown",
      "source": [
        "**Common Task 1. Electron/photon classification**\n",
        "\n",
        "Datasets:\n",
        "\n",
        "https://cernbox.cern.ch/index.php/s/AtBT8y4MiQYFcgc (photons)\n",
        "\n",
        "https://cernbox.cern.ch/index.php/s/FbXw3V4XNyYB3oA (electrons)\n",
        "\n",
        "Description: 32x32 matrices (two channels - hit energy and time) for two classes of particles electrons and photons impinging on a calorimeter\n",
        "Please use a deep learning method of your choice to achieve the highest possible\n",
        "classification on this dataset (we ask that you do it both in Keras/Tensorflow and in PyTorch). Please provide a Jupyter notebook that shows your solution. The model yousubmit should have a ROC AUC score of at least 0.80."
      ],
      "metadata": {
        "id": "vsTucLeyQCsU"
      }
    },
    {
      "cell_type": "markdown",
      "source": [
        ""
      ],
      "metadata": {
        "id": "VBwlRChLQCga"
      }
    },
    {
      "cell_type": "markdown",
      "source": [
        "**References :**\n",
        "\n",
        "\n",
        "1.   [Examining Electron and Photon Classification Using Convolutional Neural Networks\n",
        "Jonah Warner, Research Assistant\n",
        "Department of Physics, Carnegie Mellon University, Pittsburgh 15213](https://www.cmu.edu/ai-physics-institute/outreach/surp/images/2021/jonah-warner-poster.pdf)\n",
        "2.   [End-to-End Event Classification of High-Energy\n",
        "Physics Data\n",
        "M Andrews1\n",
        ", M Paulini1\n",
        ", S Gleyzer2\n",
        ", B Poczos3](https://indico.cern.ch/event/567550/papers/2629451/files/7515-end-end-event_v4.pdf)\n",
        "3.   [Calorimetry with Deep Learning: Particle\n",
        "Classification, Energy Regression, and Simulation for\n",
        "High-Energy Physics\n",
        "Federico Carminati, Gulrukh Khattak, Maurizio Pierini\n",
        "CERN](https://dl4physicalsciences.github.io/files/nips_dlps_2017_15.pdf)\n",
        "4.  [Electron/Photon Ambiguity Resolution Using Neural\n",
        "networks For ATLAS Experiment\n",
        "Nutthawara Buatthaisong, Khon Kaen University, Thailand\n",
        "](https://www.desy.de/f/students/2019/reports/nutthawara.buatthaisong.pdf)\n"
      ],
      "metadata": {
        "id": "Z1wnCtwaPVGx"
      }
    }
  ]
}