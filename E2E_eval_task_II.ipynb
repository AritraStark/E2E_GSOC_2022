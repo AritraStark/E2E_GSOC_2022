{
  "nbformat": 4,
  "nbformat_minor": 0,
  "metadata": {
    "colab": {
      "name": "E2E_eval_task_II.ipynb",
      "provenance": [],
      "authorship_tag": "ABX9TyOkvKt2CYOe7yDMCjPWwxtF",
      "include_colab_link": true
    },
    "kernelspec": {
      "name": "python3",
      "display_name": "Python 3"
    },
    "language_info": {
      "name": "python"
    }
  },
  "cells": [
    {
      "cell_type": "markdown",
      "metadata": {
        "id": "view-in-github",
        "colab_type": "text"
      },
      "source": [
        "<a href=\"https://colab.research.google.com/github/AritraStark/E2E_GSOC_2022/blob/main/E2E_eval_task_II.ipynb\" target=\"_parent\"><img src=\"https://colab.research.google.com/assets/colab-badge.svg\" alt=\"Open In Colab\"/></a>"
      ]
    },
    {
      "cell_type": "markdown",
      "source": [
        "**Common Task 2. Deep Learning based Quark-Gluon Classification :**\n",
        "\n",
        "Datasets: https://cernbox.cern.ch/index.php/s/hqz8zE7oxyPjvsL\n",
        "\n",
        "Description 125x125 matrices (three channel images) for two classes of particles\n",
        "quarks and gluons impinging on a calorimeter.\n",
        "For description of 1st dataset please refer to the link provided for the dataset.\n",
        "\n",
        "Please use a Convolutional Neural Network (CNN) architecture of your choice to\n",
        "achieve the highest possible classification on this dataset (in your preferred choice offramework for example: Tensorflow/Keras or Pytorch). \n",
        "\n",
        "Please provide a Jupyter notebook that shows your solution."
      ],
      "metadata": {
        "id": "bdvGTGGmqd-p"
      }
    },
    {
      "cell_type": "markdown",
      "source": [
        "Downloading datasets:"
      ],
      "metadata": {
        "id": "o3_W3ZVQrTfP"
      }
    },
    {
      "cell_type": "code",
      "source": [
        ""
      ],
      "metadata": {
        "id": "FOmHBQaPrVpq"
      },
      "execution_count": null,
      "outputs": []
    },
    {
      "cell_type": "markdown",
      "source": [
        "Setting up imports:"
      ],
      "metadata": {
        "id": "ATQTIzmSrM7Z"
      }
    },
    {
      "cell_type": "code",
      "source": [
        "import numpy as np\n",
        "import tensorflow as tf\n",
        "import pandas as pd\n",
        "import matplotlib.pyplot as plt"
      ],
      "metadata": {
        "id": "YTOTIgf7rPSn"
      },
      "execution_count": null,
      "outputs": []
    },
    {
      "cell_type": "markdown",
      "source": [
        "\n",
        "References: \n",
        "\n",
        "\n",
        "*   [Quark-Gluon Jet Discrimination Using Convolutional\n",
        "Neural Networks](https://arxiv.org/pdf/2012.02531.pdf)\n",
        "*   [Using Deep Learning to Discriminate Between Quark\n",
        "and Gluon Jets](https://www.desy.de/f/students/2018/reports/EvansTyler.pdf)\n",
        "*   [Discriminating quark/gluon jets \n",
        "with deep learning](https://indico.cern.ch/event/661284/contributions/2699312/attachments/1521324/2376721/ML_Workshop.pdf)\n",
        "*   [End-to-end jet classification of quarks and gluons with the CMS Open Data](https://www.sciencedirect.com/science/article/pii/S0168900220307002)\n",
        "\n",
        "\n",
        "\n"
      ],
      "metadata": {
        "id": "SwzsDUePpm8C"
      }
    }
  ]
}