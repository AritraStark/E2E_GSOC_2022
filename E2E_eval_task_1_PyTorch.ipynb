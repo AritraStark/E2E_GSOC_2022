{
  "nbformat": 4,
  "nbformat_minor": 0,
  "metadata": {
    "colab": {
      "name": "E2E_eval_task_1_PyTorch.ipynb",
      "provenance": [],
      "authorship_tag": "ABX9TyOvF4V0m1j6vgVL+074YYbE",
      "include_colab_link": true
    },
    "kernelspec": {
      "name": "python3",
      "display_name": "Python 3"
    },
    "language_info": {
      "name": "python"
    }
  },
  "cells": [
    {
      "cell_type": "markdown",
      "metadata": {
        "id": "view-in-github",
        "colab_type": "text"
      },
      "source": [
        "<a href=\"https://colab.research.google.com/github/AritraStark/E2E_GSOC_2022/blob/main/E2E_eval_task_1_PyTorch.ipynb\" target=\"_parent\"><img src=\"https://colab.research.google.com/assets/colab-badge.svg\" alt=\"Open In Colab\"/></a>"
      ]
    },
    {
      "cell_type": "markdown",
      "source": [
        "**Common Task 1. Electron/photon classification**\n",
        "\n",
        "**Datasets:**\n",
        "\n",
        "https://cernbox.cern.ch/index.php/s/AtBT8y4MiQYFcgc (photons)\n",
        "\n",
        "https://cernbox.cern.ch/index.php/s/FbXw3V4XNyYB3oA (electrons)\n",
        "\n",
        "**Description:** 32x32 matrices (two channels - hit energy and time) for two classes of particles electrons and photons impinging on a calorimeter Please use a deep learning method of your choice to achieve the highest possible classification on this dataset (we ask that you do it both in Keras/Tensorflow and in PyTorch). Please provide a Jupyter notebook that shows your solution. The model yousubmit should have a ROC AUC score of at least 0.80.\n",
        "\n"
      ],
      "metadata": {
        "id": "8kSM2bM5Rl1i"
      }
    },
    {
      "cell_type": "markdown",
      "source": [
        "Downloading the dataset: "
      ],
      "metadata": {
        "id": "yB0RibT5R7Tx"
      }
    },
    {
      "cell_type": "code",
      "execution_count": 1,
      "metadata": {
        "id": "emFLK8-cRcYx",
        "outputId": "4efb35bd-0352-4e9e-c58e-8ede0d05c4e7",
        "colab": {
          "base_uri": "https://localhost:8080/"
        }
      },
      "outputs": [
        {
          "output_type": "stream",
          "name": "stdout",
          "text": [
            "--2022-04-04 12:16:47--  https://cernbox.cern.ch/index.php/s/AtBT8y4MiQYFcgc/download\n",
            "Resolving cernbox.cern.ch (cernbox.cern.ch)... 128.142.53.35, 137.138.120.151, 128.142.170.17, ...\n",
            "Connecting to cernbox.cern.ch (cernbox.cern.ch)|128.142.53.35|:443... connected.\n",
            "HTTP request sent, awaiting response... 200 OK\n",
            "Length: 119703858 (114M) [application/octet-stream]\n",
            "Saving to: ‘photons.hdf5’\n",
            "\n",
            "photons.hdf5        100%[===================>] 114.16M   119MB/s    in 1.0s    \n",
            "\n",
            "Last-modified header invalid -- time-stamp ignored.\n",
            "2022-04-04 12:16:49 (119 MB/s) - ‘photons.hdf5’ saved [119703858/119703858]\n",
            "\n",
            "--2022-04-04 12:16:49--  https://cernbox.cern.ch/index.php/s/FbXw3V4XNyYB3oA/download\n",
            "Resolving cernbox.cern.ch (cernbox.cern.ch)... 128.142.53.35, 137.138.120.151, 128.142.170.17, ...\n",
            "Connecting to cernbox.cern.ch (cernbox.cern.ch)|128.142.53.35|:443... connected.\n",
            "HTTP request sent, awaiting response... 200 OK\n",
            "Length: 128927319 (123M) [application/octet-stream]\n",
            "Saving to: ‘electrons.hdf5’\n",
            "\n",
            "electrons.hdf5      100%[===================>] 122.95M   129MB/s    in 1.0s    \n",
            "\n",
            "Last-modified header invalid -- time-stamp ignored.\n",
            "2022-04-04 12:16:52 (129 MB/s) - ‘electrons.hdf5’ saved [128927319/128927319]\n",
            "\n"
          ]
        }
      ],
      "source": [
        "!wget https://cernbox.cern.ch/index.php/s/AtBT8y4MiQYFcgc/download -O photons.hdf5\n",
        "!wget https://cernbox.cern.ch/index.php/s/FbXw3V4XNyYB3oA/download -O electrons.hdf5"
      ]
    },
    {
      "cell_type": "markdown",
      "source": [
        "Defining the imports:"
      ],
      "metadata": {
        "id": "tEc1vdiXmB00"
      }
    },
    {
      "cell_type": "code",
      "source": [
        "import torch\n",
        "from torch.utils.data import DataLoader,TensorDataset\n",
        "from torch import Tensor\n",
        "from sklearn.model_selection import train_test_split\n",
        "import torch.nn as nn\n",
        "import torch.nn.functional as F\n",
        "import torch.optim as optim\n",
        "import matplotlib.pyplot as plt\n",
        "import numpy as np\n",
        "import h5py\n",
        "import pandas as pd\n",
        "from tqdm import tqdm\n",
        "import gc\n",
        "from sklearn.metrics import auc, roc_curve, roc_auc_score"
      ],
      "metadata": {
        "id": "rgdC1wmJfm46"
      },
      "execution_count": 10,
      "outputs": []
    },
    {
      "cell_type": "markdown",
      "source": [
        "Extracting the data and flattening it:"
      ],
      "metadata": {
        "id": "Vc27rv_UmHNM"
      }
    },
    {
      "cell_type": "code",
      "source": [
        "X_electron = np.array(h5py.File(\"electrons.hdf5\",'r').get(name=\"X\")[()])\n",
        "y_electron = np.array(h5py.File(\"electrons.hdf5\",'r').get(name=\"y\")[()])\n",
        "X_photon = np.array(h5py.File(\"photons.hdf5\",'r').get(name=\"X\")[()])\n",
        "y_photon = np.array(h5py.File(\"photons.hdf5\",'r').get(name=\"y\")[()])\n",
        "\n",
        "X_particles = np.concatenate((X_electron,X_photon),axis=0)\n",
        "y_particles = np.concatenate((y_electron,y_photon),axis=0)\n",
        "print(X_particles.shape,y_particles.shape)\n",
        "\n",
        "del X_electron\n",
        "del X_photon\n",
        "del y_electron\n",
        "del y_photon\n",
        "\n",
        "index = np.random.permutation(len(y_particles))\n",
        "X_particles, y_particles = X_particles[index][:,:,:,0].reshape((-1,32*32)), y_particles[index]\n"
      ],
      "metadata": {
        "id": "4zLTXP_QfkjS",
        "outputId": "eb17f897-229c-4782-99b2-5b31ec4affe1",
        "colab": {
          "base_uri": "https://localhost:8080/"
        }
      },
      "execution_count": 3,
      "outputs": [
        {
          "output_type": "stream",
          "name": "stdout",
          "text": [
            "(498000, 32, 32, 2) (498000,)\n"
          ]
        }
      ]
    },
    {
      "cell_type": "markdown",
      "source": [
        "Defining the dataloaders and tensors from the extracted data:"
      ],
      "metadata": {
        "id": "CZHYijtVmQPO"
      }
    },
    {
      "cell_type": "code",
      "source": [
        "X_train, X_test, y_train, y_test = train_test_split(X_particles, y_particles, test_size=0.2, random_state=12)\n",
        "del X_particles, y_particles\n",
        "\n",
        "X_train, X_valid, y_train, y_valid = train_test_split(X_train, y_train, test_size=0.2, random_state=200)\n",
        "\n",
        "train_set = TensorDataset(torch.from_numpy(X_train), torch.from_numpy(y_train.reshape((-1,1))))\n",
        "valid_set = TensorDataset(torch.from_numpy(X_valid), torch.from_numpy(y_valid.reshape((-1,1))))\n",
        "test_set = TensorDataset(torch.from_numpy(X_test), torch.from_numpy(y_test.reshape((-1,1))))\n",
        "\n",
        "train_loader = DataLoader(train_set, batch_size=32, shuffle=True)\n",
        "valid_loader = DataLoader(valid_set, batch_size=32, shuffle=False)\n",
        "test_loader = DataLoader(test_set, batch_size=32, shuffle=False)\n",
        "X_train.shape, X_test.shape, y_train.shape, y_test.shape"
      ],
      "metadata": {
        "id": "CyY260tmTGHu",
        "outputId": "fbe8179d-d680-4036-fad1-83cee1be96eb",
        "colab": {
          "base_uri": "https://localhost:8080/"
        }
      },
      "execution_count": 4,
      "outputs": [
        {
          "output_type": "execute_result",
          "data": {
            "text/plain": [
              "((318720, 1024), (99600, 1024), (318720,), (99600,))"
            ]
          },
          "metadata": {},
          "execution_count": 4
        }
      ]
    },
    {
      "cell_type": "markdown",
      "source": [
        "Defining the model:"
      ],
      "metadata": {
        "id": "d0IejaPtSAFT"
      }
    },
    {
      "cell_type": "code",
      "source": [
        "device = \"cuda\" if torch.cuda.is_available() else \"cpu\"\n",
        "\n",
        "class FCN(nn.Module):\n",
        "    def __init__(self):\n",
        "        super(FCN, self).__init__()\n",
        "        self.linear_stack = nn.Sequential(\n",
        "            # layer 1\n",
        "            nn.Linear(32*32, 256),\n",
        "            nn.ReLU(),\n",
        "            nn.Dropout(0.5),\n",
        "            # layer 2\n",
        "            nn.Linear(256, 256),\n",
        "            nn.ReLU(),\n",
        "            nn.Dropout(0.5),\n",
        "            # layer 3\n",
        "            nn.Linear(256, 256),\n",
        "            nn.ReLU(),\n",
        "            nn.Dropout(0.5),\n",
        "            # layer 4\n",
        "            nn.Linear(256, 256),\n",
        "            nn.ReLU(),\n",
        "            nn.Dropout(0.5),\n",
        "            # output layer\n",
        "            nn.Linear(256,1),\n",
        "            nn.Sigmoid(),\n",
        "        )\n",
        "    def forward(self, x):\n",
        "        logits = self.linear_stack(x)\n",
        "        return logits\n"
      ],
      "metadata": {
        "id": "DtF7HnsWSGEM"
      },
      "execution_count": 5,
      "outputs": []
    },
    {
      "cell_type": "markdown",
      "source": [
        "Training and evaluating the model:"
      ],
      "metadata": {
        "id": "LJKgCXrMmaIv"
      }
    },
    {
      "cell_type": "code",
      "source": [
        "model = FCN().to(device)\n",
        "print(model)\n",
        "criterion = nn.BCELoss()\n",
        "optimizer = torch.optim.Adam(model.parameters(), lr=0.001)\n",
        "scheduler = torch.optim.lr_scheduler.ExponentialLR(optimizer, gamma=0.9)\n",
        "epochs = 30\n",
        "min_valid_loss = np.inf\n",
        "\n",
        "for e in range(epochs):\n",
        "    train_loss = 0.0\n",
        "    train_correct = 0\n",
        "    model.train()\n",
        "    for data, labels in tqdm(train_loader):\n",
        "        # Transfer Data to GPU if available\n",
        "        if torch.cuda.is_available():\n",
        "            data, labels = data.cuda(), labels.cuda()\n",
        "         \n",
        "        # Clear the gradients\n",
        "        optimizer.zero_grad()\n",
        "        # Forward Pass\n",
        "        target = model(data)    \n",
        "        # Find the Loss\n",
        "        loss = criterion(target,labels)\n",
        "        # Calculate gradients\n",
        "        loss.backward()\n",
        "        # Update Weights\n",
        "        optimizer.step()\n",
        "        # Calculate Loss\n",
        "        train_loss += loss.item()\n",
        "        # Calculate Correct\n",
        "        train_correct += ((target>0.5).float() == labels).sum().item()\n",
        "    scheduler.step()\n",
        "    \n",
        "    valid_loss = 0.0\n",
        "    val_correct = 0\n",
        "    model.eval()     # Optional when not using Model Specific layer\n",
        "    for data, labels in valid_loader:\n",
        "        # Transfer Data to GPU if available\n",
        "        if torch.cuda.is_available():\n",
        "            data, labels = data.cuda(), labels.cuda()\n",
        "        \n",
        "        # Forward Pass\n",
        "        target = model(data)\n",
        "        # Find the Loss\n",
        "        loss = criterion(target,labels)\n",
        "        # Calculate Loss\n",
        "        valid_loss += loss.item()\n",
        "        # Calculate Right Prediction\n",
        "        val_correct += ((target>0.5).float() == labels).sum().item()\n",
        " \n",
        "    print('Epoch: {}: \\t Training Loss:{:.6f}\\t Training Accuracy:{:.6f} \\t Validation Loss:{:.6f} \\t Validation Accuracy:{:.6f}'.format(\n",
        "        e+1, train_loss / len(train_loader), train_correct*1.0 / len(X_train), valid_loss / len(valid_loader), val_correct*1.0 / len(X_valid)\n",
        "    ))\n",
        "     \n",
        "    if min_valid_loss > valid_loss:\n",
        "        min_valid_loss = valid_loss\n",
        "         \n",
        "        # Saving State Dict\n",
        "        torch.save(model.state_dict(), 'saved_model.pth')"
      ],
      "metadata": {
        "id": "-Ryu9UlMSG-M",
        "outputId": "5507d1e1-06cf-45e4-e400-f7c39dae4b4e",
        "colab": {
          "base_uri": "https://localhost:8080/"
        }
      },
      "execution_count": 6,
      "outputs": [
        {
          "output_type": "stream",
          "name": "stdout",
          "text": [
            "FCN(\n",
            "  (linear_stack): Sequential(\n",
            "    (0): Linear(in_features=1024, out_features=256, bias=True)\n",
            "    (1): ReLU()\n",
            "    (2): Dropout(p=0.5, inplace=False)\n",
            "    (3): Linear(in_features=256, out_features=256, bias=True)\n",
            "    (4): ReLU()\n",
            "    (5): Dropout(p=0.5, inplace=False)\n",
            "    (6): Linear(in_features=256, out_features=256, bias=True)\n",
            "    (7): ReLU()\n",
            "    (8): Dropout(p=0.5, inplace=False)\n",
            "    (9): Linear(in_features=256, out_features=256, bias=True)\n",
            "    (10): ReLU()\n",
            "    (11): Dropout(p=0.5, inplace=False)\n",
            "    (12): Linear(in_features=256, out_features=1, bias=True)\n",
            "    (13): Sigmoid()\n",
            "  )\n",
            ")\n"
          ]
        },
        {
          "output_type": "stream",
          "name": "stderr",
          "text": [
            "100%|██████████| 9960/9960 [02:31<00:00, 65.55it/s]\n"
          ]
        },
        {
          "output_type": "stream",
          "name": "stdout",
          "text": [
            "Epoch: 1: \t Training Loss:0.618143\t Training Accuracy:0.667112 \t Validation Loss:0.596270 \t Validation Accuracy:0.691428\n"
          ]
        },
        {
          "output_type": "stream",
          "name": "stderr",
          "text": [
            "100%|██████████| 9960/9960 [02:34<00:00, 64.50it/s]\n"
          ]
        },
        {
          "output_type": "stream",
          "name": "stdout",
          "text": [
            "Epoch: 2: \t Training Loss:0.592857\t Training Accuracy:0.696856 \t Validation Loss:0.576877 \t Validation Accuracy:0.708032\n"
          ]
        },
        {
          "output_type": "stream",
          "name": "stderr",
          "text": [
            "100%|██████████| 9960/9960 [02:38<00:00, 62.99it/s]\n"
          ]
        },
        {
          "output_type": "stream",
          "name": "stdout",
          "text": [
            "Epoch: 3: \t Training Loss:0.585612\t Training Accuracy:0.704148 \t Validation Loss:0.573113 \t Validation Accuracy:0.711760\n"
          ]
        },
        {
          "output_type": "stream",
          "name": "stderr",
          "text": [
            "100%|██████████| 9960/9960 [02:31<00:00, 65.65it/s]\n"
          ]
        },
        {
          "output_type": "stream",
          "name": "stdout",
          "text": [
            "Epoch: 4: \t Training Loss:0.580640\t Training Accuracy:0.706899 \t Validation Loss:0.566282 \t Validation Accuracy:0.716792\n"
          ]
        },
        {
          "output_type": "stream",
          "name": "stderr",
          "text": [
            "100%|██████████| 9960/9960 [02:44<00:00, 60.39it/s]\n"
          ]
        },
        {
          "output_type": "stream",
          "name": "stdout",
          "text": [
            "Epoch: 5: \t Training Loss:0.576159\t Training Accuracy:0.711483 \t Validation Loss:0.563521 \t Validation Accuracy:0.719842\n"
          ]
        },
        {
          "output_type": "stream",
          "name": "stderr",
          "text": [
            "100%|██████████| 9960/9960 [03:04<00:00, 53.90it/s]\n"
          ]
        },
        {
          "output_type": "stream",
          "name": "stdout",
          "text": [
            "Epoch: 6: \t Training Loss:0.573449\t Training Accuracy:0.712889 \t Validation Loss:0.563160 \t Validation Accuracy:0.719716\n"
          ]
        },
        {
          "output_type": "stream",
          "name": "stderr",
          "text": [
            "100%|██████████| 9960/9960 [03:36<00:00, 46.01it/s]\n"
          ]
        },
        {
          "output_type": "stream",
          "name": "stdout",
          "text": [
            "Epoch: 7: \t Training Loss:0.571209\t Training Accuracy:0.715230 \t Validation Loss:0.560708 \t Validation Accuracy:0.720708\n"
          ]
        },
        {
          "output_type": "stream",
          "name": "stderr",
          "text": [
            "100%|██████████| 9960/9960 [03:52<00:00, 42.79it/s]\n"
          ]
        },
        {
          "output_type": "stream",
          "name": "stdout",
          "text": [
            "Epoch: 8: \t Training Loss:0.568449\t Training Accuracy:0.717153 \t Validation Loss:0.560777 \t Validation Accuracy:0.721787\n"
          ]
        },
        {
          "output_type": "stream",
          "name": "stderr",
          "text": [
            "100%|██████████| 9960/9960 [03:56<00:00, 42.13it/s]\n"
          ]
        },
        {
          "output_type": "stream",
          "name": "stdout",
          "text": [
            "Epoch: 9: \t Training Loss:0.566844\t Training Accuracy:0.717824 \t Validation Loss:0.557343 \t Validation Accuracy:0.723268\n"
          ]
        },
        {
          "output_type": "stream",
          "name": "stderr",
          "text": [
            "100%|██████████| 9960/9960 [03:59<00:00, 41.61it/s]\n"
          ]
        },
        {
          "output_type": "stream",
          "name": "stdout",
          "text": [
            "Epoch: 10: \t Training Loss:0.564258\t Training Accuracy:0.719748 \t Validation Loss:0.556290 \t Validation Accuracy:0.725138\n"
          ]
        },
        {
          "output_type": "stream",
          "name": "stderr",
          "text": [
            "100%|██████████| 9960/9960 [03:58<00:00, 41.80it/s]\n"
          ]
        },
        {
          "output_type": "stream",
          "name": "stdout",
          "text": [
            "Epoch: 11: \t Training Loss:0.563389\t Training Accuracy:0.720796 \t Validation Loss:0.557920 \t Validation Accuracy:0.724448\n"
          ]
        },
        {
          "output_type": "stream",
          "name": "stderr",
          "text": [
            "100%|██████████| 9960/9960 [03:59<00:00, 41.53it/s]\n"
          ]
        },
        {
          "output_type": "stream",
          "name": "stdout",
          "text": [
            "Epoch: 12: \t Training Loss:0.561667\t Training Accuracy:0.721646 \t Validation Loss:0.555332 \t Validation Accuracy:0.723783\n"
          ]
        },
        {
          "output_type": "stream",
          "name": "stderr",
          "text": [
            "100%|██████████| 9960/9960 [04:00<00:00, 41.35it/s]\n"
          ]
        },
        {
          "output_type": "stream",
          "name": "stdout",
          "text": [
            "Epoch: 13: \t Training Loss:0.560828\t Training Accuracy:0.722575 \t Validation Loss:0.553890 \t Validation Accuracy:0.725728\n"
          ]
        },
        {
          "output_type": "stream",
          "name": "stderr",
          "text": [
            "100%|██████████| 9960/9960 [03:59<00:00, 41.65it/s]\n"
          ]
        },
        {
          "output_type": "stream",
          "name": "stdout",
          "text": [
            "Epoch: 14: \t Training Loss:0.559103\t Training Accuracy:0.724024 \t Validation Loss:0.553463 \t Validation Accuracy:0.726305\n"
          ]
        },
        {
          "output_type": "stream",
          "name": "stderr",
          "text": [
            "100%|██████████| 9960/9960 [04:00<00:00, 41.46it/s]\n"
          ]
        },
        {
          "output_type": "stream",
          "name": "stdout",
          "text": [
            "Epoch: 15: \t Training Loss:0.558789\t Training Accuracy:0.723877 \t Validation Loss:0.554335 \t Validation Accuracy:0.726368\n"
          ]
        },
        {
          "output_type": "stream",
          "name": "stderr",
          "text": [
            "100%|██████████| 9960/9960 [04:00<00:00, 41.45it/s]\n"
          ]
        },
        {
          "output_type": "stream",
          "name": "stdout",
          "text": [
            "Epoch: 16: \t Training Loss:0.557686\t Training Accuracy:0.725295 \t Validation Loss:0.552530 \t Validation Accuracy:0.725879\n"
          ]
        },
        {
          "output_type": "stream",
          "name": "stderr",
          "text": [
            "100%|██████████| 9960/9960 [03:59<00:00, 41.57it/s]\n"
          ]
        },
        {
          "output_type": "stream",
          "name": "stdout",
          "text": [
            "Epoch: 17: \t Training Loss:0.556037\t Training Accuracy:0.726428 \t Validation Loss:0.552634 \t Validation Accuracy:0.726130\n"
          ]
        },
        {
          "output_type": "stream",
          "name": "stderr",
          "text": [
            "100%|██████████| 9960/9960 [04:01<00:00, 41.31it/s]\n"
          ]
        },
        {
          "output_type": "stream",
          "name": "stdout",
          "text": [
            "Epoch: 18: \t Training Loss:0.555917\t Training Accuracy:0.726402 \t Validation Loss:0.551446 \t Validation Accuracy:0.727171\n"
          ]
        },
        {
          "output_type": "stream",
          "name": "stderr",
          "text": [
            "100%|██████████| 9960/9960 [04:01<00:00, 41.21it/s]\n"
          ]
        },
        {
          "output_type": "stream",
          "name": "stdout",
          "text": [
            "Epoch: 19: \t Training Loss:0.555182\t Training Accuracy:0.726926 \t Validation Loss:0.550684 \t Validation Accuracy:0.726657\n"
          ]
        },
        {
          "output_type": "stream",
          "name": "stderr",
          "text": [
            "100%|██████████| 9960/9960 [04:01<00:00, 41.18it/s]\n"
          ]
        },
        {
          "output_type": "stream",
          "name": "stdout",
          "text": [
            "Epoch: 20: \t Training Loss:0.554678\t Training Accuracy:0.726977 \t Validation Loss:0.551618 \t Validation Accuracy:0.727460\n"
          ]
        },
        {
          "output_type": "stream",
          "name": "stderr",
          "text": [
            "100%|██████████| 9960/9960 [04:02<00:00, 41.08it/s]\n"
          ]
        },
        {
          "output_type": "stream",
          "name": "stdout",
          "text": [
            "Epoch: 21: \t Training Loss:0.553378\t Training Accuracy:0.728583 \t Validation Loss:0.551290 \t Validation Accuracy:0.726983\n"
          ]
        },
        {
          "output_type": "stream",
          "name": "stderr",
          "text": [
            "100%|██████████| 9960/9960 [04:04<00:00, 40.75it/s]\n"
          ]
        },
        {
          "output_type": "stream",
          "name": "stdout",
          "text": [
            "Epoch: 22: \t Training Loss:0.553190\t Training Accuracy:0.728432 \t Validation Loss:0.550788 \t Validation Accuracy:0.727146\n"
          ]
        },
        {
          "output_type": "stream",
          "name": "stderr",
          "text": [
            "100%|██████████| 9960/9960 [04:04<00:00, 40.70it/s]\n"
          ]
        },
        {
          "output_type": "stream",
          "name": "stdout",
          "text": [
            "Epoch: 23: \t Training Loss:0.552476\t Training Accuracy:0.728696 \t Validation Loss:0.551117 \t Validation Accuracy:0.726732\n"
          ]
        },
        {
          "output_type": "stream",
          "name": "stderr",
          "text": [
            "100%|██████████| 9960/9960 [04:04<00:00, 40.79it/s]\n"
          ]
        },
        {
          "output_type": "stream",
          "name": "stdout",
          "text": [
            "Epoch: 24: \t Training Loss:0.552113\t Training Accuracy:0.729248 \t Validation Loss:0.551756 \t Validation Accuracy:0.726920\n"
          ]
        },
        {
          "output_type": "stream",
          "name": "stderr",
          "text": [
            "100%|██████████| 9960/9960 [04:02<00:00, 41.05it/s]\n"
          ]
        },
        {
          "output_type": "stream",
          "name": "stdout",
          "text": [
            "Epoch: 25: \t Training Loss:0.551497\t Training Accuracy:0.729267 \t Validation Loss:0.550105 \t Validation Accuracy:0.727786\n"
          ]
        },
        {
          "output_type": "stream",
          "name": "stderr",
          "text": [
            "100%|██████████| 9960/9960 [04:02<00:00, 41.06it/s]\n"
          ]
        },
        {
          "output_type": "stream",
          "name": "stdout",
          "text": [
            "Epoch: 26: \t Training Loss:0.550926\t Training Accuracy:0.729882 \t Validation Loss:0.549985 \t Validation Accuracy:0.728200\n"
          ]
        },
        {
          "output_type": "stream",
          "name": "stderr",
          "text": [
            "100%|██████████| 9960/9960 [04:02<00:00, 41.12it/s]\n"
          ]
        },
        {
          "output_type": "stream",
          "name": "stdout",
          "text": [
            "Epoch: 27: \t Training Loss:0.550875\t Training Accuracy:0.729571 \t Validation Loss:0.551014 \t Validation Accuracy:0.728426\n"
          ]
        },
        {
          "output_type": "stream",
          "name": "stderr",
          "text": [
            "100%|██████████| 9960/9960 [04:02<00:00, 41.07it/s]\n"
          ]
        },
        {
          "output_type": "stream",
          "name": "stdout",
          "text": [
            "Epoch: 28: \t Training Loss:0.550637\t Training Accuracy:0.730205 \t Validation Loss:0.550737 \t Validation Accuracy:0.727585\n"
          ]
        },
        {
          "output_type": "stream",
          "name": "stderr",
          "text": [
            "100%|██████████| 9960/9960 [04:01<00:00, 41.22it/s]\n"
          ]
        },
        {
          "output_type": "stream",
          "name": "stdout",
          "text": [
            "Epoch: 29: \t Training Loss:0.550578\t Training Accuracy:0.730296 \t Validation Loss:0.550022 \t Validation Accuracy:0.728025\n"
          ]
        },
        {
          "output_type": "stream",
          "name": "stderr",
          "text": [
            "100%|██████████| 9960/9960 [04:01<00:00, 41.21it/s]\n"
          ]
        },
        {
          "output_type": "stream",
          "name": "stdout",
          "text": [
            "Epoch: 30: \t Training Loss:0.550549\t Training Accuracy:0.730155 \t Validation Loss:0.549719 \t Validation Accuracy:0.729142\n"
          ]
        }
      ]
    },
    {
      "cell_type": "markdown",
      "source": [
        "Testing the model on test data: "
      ],
      "metadata": {
        "id": "US6dzarjmedF"
      }
    },
    {
      "cell_type": "code",
      "source": [
        "def test(model, test_loader):\n",
        "    total = 0\n",
        "    correct = 0\n",
        "    model.eval()     # Optional when not using Model Specific layer\n",
        "    y_pred = np.array([])\n",
        "    with torch.no_grad():\n",
        "        for data, labels in test_loader:\n",
        "            # Transfer Data to GPU if available\n",
        "            if torch.cuda.is_available():\n",
        "                data, labels = data.cuda(), labels.cuda()\n",
        "            # Forward Pass\n",
        "            target = model(data)\n",
        "            # Calculate Right Prediction\n",
        "            total += labels.size(0)\n",
        "            correct += ((target>0.5).float() == labels).sum().item()\n",
        "            # Save prediction\n",
        "            y_pred = np.append(y_pred, target.cpu().detach().numpy())\n",
        "    gc.collect()\n",
        "    print('Testing Accuracy:{:.6f}'.format(correct*1.0 / total))\n",
        "    return y_pred"
      ],
      "metadata": {
        "id": "EcVT4b3hSPGZ"
      },
      "execution_count": 7,
      "outputs": []
    },
    {
      "cell_type": "markdown",
      "source": [
        "Saving the model and getting the predictions:"
      ],
      "metadata": {
        "id": "yvt3WYEpmhWA"
      }
    },
    {
      "cell_type": "code",
      "source": [
        "best_model = FCN()\n",
        "best_model.load_state_dict(torch.load(\"saved_model.pth\"))\n",
        "best_model.to(device)\n",
        "y_pred = test(best_model, test_loader)"
      ],
      "metadata": {
        "id": "6dU67TLHlCtJ",
        "outputId": "aacf6d89-7ddb-4cdf-818d-1bf76487b1f0",
        "colab": {
          "base_uri": "https://localhost:8080/"
        }
      },
      "execution_count": 8,
      "outputs": [
        {
          "output_type": "stream",
          "name": "stdout",
          "text": [
            "Testing Accuracy:0.727299\n"
          ]
        }
      ]
    },
    {
      "cell_type": "markdown",
      "source": [
        "ROC AUC score and curve:"
      ],
      "metadata": {
        "id": "5UI1vA4Smpm_"
      }
    },
    {
      "cell_type": "code",
      "source": [
        "print(\"ROC AUC:\" ,roc_auc_score(y_test, y_pred))\n",
        "fpr, tpr, thresholds = roc_curve(y_test, y_pred)\n",
        "roc_auc = auc(fpr, tpr)\n",
        "plt.title('Receiver Operating Characteristic')\n",
        "plt.plot(fpr, tpr, 'b', label = 'AUC = %0.2f' % roc_auc)\n",
        "plt.legend(loc = 'lower right')\n",
        "plt.plot([0, 1], [0, 1],'r--')\n",
        "plt.xlim([0, 1])\n",
        "plt.ylim([0, 1])\n",
        "plt.ylabel('True Positive Rate')\n",
        "plt.xlabel('False Positive Rate')\n",
        "plt.show()"
      ],
      "metadata": {
        "id": "pUZzBxpNlvXg",
        "outputId": "c498fcc5-f05b-436e-e9dd-eff50680f418",
        "colab": {
          "base_uri": "https://localhost:8080/",
          "height": 393
        }
      },
      "execution_count": 15,
      "outputs": [
        {
          "output_type": "stream",
          "name": "stdout",
          "text": [
            "ROC AUC: 0.7944780046558753\n"
          ]
        },
        {
          "output_type": "display_data",
          "data": {
            "text/plain": [
              "<Figure size 576x396 with 1 Axes>"
            ],
            "image/png": "[encoded data removed]"
          },
          "metadata": {}
        }
      ]
    }
  ]
}